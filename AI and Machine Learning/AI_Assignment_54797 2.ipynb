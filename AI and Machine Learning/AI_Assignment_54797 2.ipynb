{
  "nbformat": 4,
  "nbformat_minor": 0,
  "metadata": {
    "accelerator": "GPU",
    "colab": {
      "name": "AI Assignment.ipynb",
      "provenance": [],
      "collapsed_sections": []
    },
    "kernelspec": {
      "display_name": "Python 3",
      "name": "python3"
    },
    "language_info": {
      "name": "python"
    }
  },
  "cells": [
    {
      "cell_type": "markdown",
      "metadata": {
        "id": "gq4eerabRcW6"
      },
      "source": [
        "# Group Member Detail and Individual Contribution\n"
      ]
    },
    {
      "cell_type": "markdown",
      "metadata": {
        "id": "dY-jP64uka_y"
      },
      "source": [
        "Student Name  | Student ID | Email\n",
        "---|----|---|\n",
        "Adrian Yi Kiat Teo | 110289417 | teoay004@mymail.unisa.edu.au \n",
        "Gitae Bae | 110310861 |baegy002@mymail.unisa.edu.au\n",
        "Jaehong LEE | 110334854 | leejy144@mymail.unisa.edu.au\n",
        "Sanghun Park |110285975 | parsy094@mymail.unisa.edu.au\n",
        "\n",
        "\n",
        "---\n",
        "**Team Member 1 Name: Jaehong Lee**<br/>\n",
        "I contributed 987 words towards this assessment. <br/>\n",
        "I worked on the following sections/questions (select whichever is appropriate)\n",
        "\n",
        "*   Understanding the data\n",
        "*   Data for Decision Tree\n",
        "*   Train Decision Tree\n",
        "*   Document formatting\n",
        "---\n",
        "**Team Member 2 Name: Gitae Bae**<br/>\n",
        "I contributed 838 words towards this assessment. <br/>\n",
        "I worked on the following sections/questions (select whichever is appropriate)\n",
        "\n",
        "*   Understanding the data\n",
        "*   Prepare data\n",
        "*   Document formatting\n",
        "---\n",
        "\n",
        "**Team Member 3 Name: Sanghun Park**<br/>\n",
        "I contributed 1136 words towards this assessment. <br/>\n",
        "I worked on the following sections/questions (select whichever is appropriate)\n",
        "\n",
        "*   Understanding the data\n",
        "*   Select a Metric\n",
        "*   Data for Logistic Regression\n",
        "*   Train a Logistic Regression Model\n",
        "*   Recommendation\n",
        "\n",
        "---\n",
        "**Team Member 4 Name: Adrian Yi Kiat Teo**<br/>\n",
        "I contributed 1634 words towards this assessment. <br/>\n",
        "I worked on the following sections/questions (select whichever is appropriate)\n",
        "\n",
        "*   Understanding the data\n",
        "*   Data for Neural Net\n",
        "*   Train a Feed-Forward Neural Net\n",
        "*   Recommendation\n",
        "*   Help train for other models\n",
        "\n",
        "---"
      ]
    },
    {
      "cell_type": "markdown",
      "metadata": {
        "id": "14xs3P-rk9xk"
      },
      "source": [
        "# Data Import"
      ]
    },
    {
      "cell_type": "code",
      "metadata": {
        "id": "fi8cQuhNKful"
      },
      "source": [
        "import pandas as pd\n",
        "import seaborn as sns\n",
        "import numpy as np\n",
        "import matplotlib.pyplot as plt\n",
        "from sklearn.tree import DecisionTreeClassifier\n",
        "from sklearn.metrics import classification_report, mean_squared_error, plot_confusion_matrix\n",
        "from sklearn.model_selection import train_test_split, cross_val_score, GridSearchCV, learning_curve, validation_curve, ShuffleSplit\n",
        "from sklearn.linear_model import LogisticRegression\n",
        "from tensorflow.keras.models import Sequential\n",
        "from tensorflow.keras.layers import Dense, Dropout, Activation\n",
        "from tensorflow.keras.activations import sigmoid\n",
        "from tensorflow.keras.optimizers import Adam\n",
        "from sklearn.metrics import make_scorer\n",
        "from sklearn.metrics import accuracy_score, precision_score, recall_score"
      ],
      "execution_count": null,
      "outputs": []
    },
    {
      "cell_type": "code",
      "metadata": {
        "colab": {
          "base_uri": "https://localhost:8080/"
        },
        "id": "-EOPwuhCKkC4",
        "outputId": "49c387cb-fed8-4a59-ae88-a84786b80dd3"
      },
      "source": [
        "# mount Google Drive. You could also mount Google Drive using the Files tab on the left.\n",
        "try:\n",
        "    from google.colab import drive\n",
        "    drive.mount('/content/drive')\n",
        "except ModuleNotFoundError:\n",
        "    pass # we're not using Google Colab"
      ],
      "execution_count": null,
      "outputs": [
        {
          "output_type": "stream",
          "name": "stdout",
          "text": [
            "Mounted at /content/drive\n"
          ]
        }
      ]
    },
    {
      "cell_type": "markdown",
      "metadata": {
        "id": "agbF62Rymv2h"
      },
      "source": [
        "Load the data from the provided \"train.csv\" and \"test.csv\" files in google drive with specific path. <br/>\n",
        "Remember without the data we will not be able to do the upcoming process."
      ]
    },
    {
      "cell_type": "code",
      "metadata": {
        "id": "gSadxBaFKmj-"
      },
      "source": [
        "# Import\n",
        "df_train = pd.read_csv (\"/content/drive/My Drive/Colab Notebooks/train.csv\")\n",
        "df_test = pd.read_csv (\"/content/drive/My Drive/Colab Notebooks/test.csv\") "
      ],
      "execution_count": null,
      "outputs": []
    },
    {
      "cell_type": "markdown",
      "metadata": {
        "id": "qdKe1mHfJh3L"
      },
      "source": [
        "#Task 1. Review and Prepare the Dataset\n"
      ]
    },
    {
      "cell_type": "markdown",
      "metadata": {
        "id": "ofOf8CHkK21Z"
      },
      "source": [
        "##Task 1a) Understanding the Data\n",
        "First of all, We should survey the data to understand each attribute and distribution of attributes. We can review the data set to assess distributions of the features and the target and understand the relationships between the features and the target."
      ]
    },
    {
      "cell_type": "markdown",
      "metadata": {
        "id": "KFjH4bBGFAB_"
      },
      "source": [
        "Before we train or develop the model, we need to understand the characteristics of the data. Therefore, In the Understanding data step, we will handle understand and simply analyze the data as below:\n",
        "*   The data types\n",
        "*   The data shape\n",
        "*   The data behaviour\n",
        "*   The data uniqueness\n",
        "*   The data relationship"
      ]
    },
    {
      "cell_type": "code",
      "metadata": {
        "colab": {
          "base_uri": "https://localhost:8080/"
        },
        "id": "FD01O8lqK7AE",
        "outputId": "bc258ae5-319e-415f-e794-fdde857363a9"
      },
      "source": [
        "df_train.shape"
      ],
      "execution_count": null,
      "outputs": [
        {
          "output_type": "execute_result",
          "data": {
            "text/plain": [
              "(103594, 26)"
            ]
          },
          "metadata": {},
          "execution_count": 99
        }
      ]
    },
    {
      "cell_type": "markdown",
      "metadata": {
        "id": "Qu3TNg46GzCV"
      },
      "source": [
        "From the shape property, we can see that the train set had a totally of 103594 samples and 26 features."
      ]
    },
    {
      "cell_type": "code",
      "metadata": {
        "colab": {
          "base_uri": "https://localhost:8080/"
        },
        "id": "C8Cko19uK_eA",
        "outputId": "cb1479d5-de45-4590-ccee-b50b057945c8"
      },
      "source": [
        "df_train.dtypes"
      ],
      "execution_count": null,
      "outputs": [
        {
          "output_type": "execute_result",
          "data": {
            "text/plain": [
              "Gender                                 int64\n",
              "Customer Type                          int64\n",
              "Age                                    int64\n",
              "Type of Travel                         int64\n",
              "Class                                  int64\n",
              "Flight Distance                        int64\n",
              "Inflight wifi service                  int64\n",
              "Departure/Arrival time convenient      int64\n",
              "Ease of Online booking                 int64\n",
              "Gate location                          int64\n",
              "Food and drink                         int64\n",
              "Online boarding                        int64\n",
              "Seat comfort                           int64\n",
              "Inflight entertainment                 int64\n",
              "On-board service                       int64\n",
              "Leg room service                       int64\n",
              "Baggage handling                       int64\n",
              "Checkin service                        int64\n",
              "Inflight service                       int64\n",
              "Cleanliness                            int64\n",
              "Departure Delay in Minutes             int64\n",
              "Arrival Delay in Minutes               int64\n",
              "Order                                float64\n",
              "Comfort                              float64\n",
              "Service                              float64\n",
              "satisfaction                           int64\n",
              "dtype: object"
            ]
          },
          "metadata": {},
          "execution_count": 100
        }
      ]
    },
    {
      "cell_type": "markdown",
      "metadata": {
        "id": "5bWhf4McH8Ut"
      },
      "source": [
        "From the dtypes property, we can see that most of the features are integer included in the target data (satisfaction). According to the data types, we can recognise that we may need to work on binary classification model training."
      ]
    },
    {
      "cell_type": "code",
      "metadata": {
        "colab": {
          "base_uri": "https://localhost:8080/"
        },
        "id": "n0Ubxi1USfKW",
        "outputId": "ed373f91-28bd-45af-f9a0-d0e5c527b3ac"
      },
      "source": [
        "df_train.describe()"
      ],
      "execution_count": null,
      "outputs": [
        {
          "output_type": "execute_result",
          "data": {
            "text/html": [
              "<div>\n",
              "<style scoped>\n",
              "    .dataframe tbody tr th:only-of-type {\n",
              "        vertical-align: middle;\n",
              "    }\n",
              "\n",
              "    .dataframe tbody tr th {\n",
              "        vertical-align: top;\n",
              "    }\n",
              "\n",
              "    .dataframe thead th {\n",
              "        text-align: right;\n",
              "    }\n",
              "</style>\n",
              "<table border=\"1\" class=\"dataframe\">\n",
              "  <thead>\n",
              "    <tr style=\"text-align: right;\">\n",
              "      <th></th>\n",
              "      <th>Gender</th>\n",
              "      <th>Customer Type</th>\n",
              "      <th>Age</th>\n",
              "      <th>Type of Travel</th>\n",
              "      <th>Class</th>\n",
              "      <th>Flight Distance</th>\n",
              "      <th>Inflight wifi service</th>\n",
              "      <th>Departure/Arrival time convenient</th>\n",
              "      <th>Ease of Online booking</th>\n",
              "      <th>Gate location</th>\n",
              "      <th>Food and drink</th>\n",
              "      <th>Online boarding</th>\n",
              "      <th>Seat comfort</th>\n",
              "      <th>Inflight entertainment</th>\n",
              "      <th>On-board service</th>\n",
              "      <th>Leg room service</th>\n",
              "      <th>Baggage handling</th>\n",
              "      <th>Checkin service</th>\n",
              "      <th>Inflight service</th>\n",
              "      <th>Cleanliness</th>\n",
              "      <th>Departure Delay in Minutes</th>\n",
              "      <th>Arrival Delay in Minutes</th>\n",
              "      <th>Order</th>\n",
              "      <th>Comfort</th>\n",
              "      <th>Service</th>\n",
              "      <th>satisfaction</th>\n",
              "    </tr>\n",
              "  </thead>\n",
              "  <tbody>\n",
              "    <tr>\n",
              "      <th>count</th>\n",
              "      <td>103594.000000</td>\n",
              "      <td>103594.000000</td>\n",
              "      <td>103594.000000</td>\n",
              "      <td>103594.000000</td>\n",
              "      <td>103594.000000</td>\n",
              "      <td>103594.000000</td>\n",
              "      <td>103594.000000</td>\n",
              "      <td>103594.000000</td>\n",
              "      <td>103594.000000</td>\n",
              "      <td>103594.000000</td>\n",
              "      <td>103594.000000</td>\n",
              "      <td>103594.000000</td>\n",
              "      <td>103594.000000</td>\n",
              "      <td>103594.000000</td>\n",
              "      <td>103594.000000</td>\n",
              "      <td>103594.000000</td>\n",
              "      <td>103594.000000</td>\n",
              "      <td>103594.000000</td>\n",
              "      <td>103594.000000</td>\n",
              "      <td>103594.000000</td>\n",
              "      <td>103594.000000</td>\n",
              "      <td>103594.000000</td>\n",
              "      <td>103594.000000</td>\n",
              "      <td>103594.000000</td>\n",
              "      <td>103594.000000</td>\n",
              "      <td>103594.000000</td>\n",
              "    </tr>\n",
              "    <tr>\n",
              "      <th>mean</th>\n",
              "      <td>0.507520</td>\n",
              "      <td>0.817248</td>\n",
              "      <td>39.380466</td>\n",
              "      <td>0.689857</td>\n",
              "      <td>1.028380</td>\n",
              "      <td>1189.325202</td>\n",
              "      <td>2.729753</td>\n",
              "      <td>3.060081</td>\n",
              "      <td>2.756984</td>\n",
              "      <td>2.977026</td>\n",
              "      <td>3.202126</td>\n",
              "      <td>3.250497</td>\n",
              "      <td>3.439765</td>\n",
              "      <td>3.358341</td>\n",
              "      <td>3.382609</td>\n",
              "      <td>3.351401</td>\n",
              "      <td>3.631687</td>\n",
              "      <td>3.304323</td>\n",
              "      <td>3.640761</td>\n",
              "      <td>3.286397</td>\n",
              "      <td>14.747939</td>\n",
              "      <td>15.178678</td>\n",
              "      <td>2.880961</td>\n",
              "      <td>3.312682</td>\n",
              "      <td>3.501614</td>\n",
              "      <td>0.433394</td>\n",
              "    </tr>\n",
              "    <tr>\n",
              "      <th>std</th>\n",
              "      <td>0.499946</td>\n",
              "      <td>0.386465</td>\n",
              "      <td>15.113125</td>\n",
              "      <td>0.462554</td>\n",
              "      <td>0.962868</td>\n",
              "      <td>997.297235</td>\n",
              "      <td>1.327866</td>\n",
              "      <td>1.525233</td>\n",
              "      <td>1.398934</td>\n",
              "      <td>1.277723</td>\n",
              "      <td>1.329401</td>\n",
              "      <td>1.349433</td>\n",
              "      <td>1.318896</td>\n",
              "      <td>1.333030</td>\n",
              "      <td>1.288284</td>\n",
              "      <td>1.315409</td>\n",
              "      <td>1.181051</td>\n",
              "      <td>1.265396</td>\n",
              "      <td>1.175603</td>\n",
              "      <td>1.312194</td>\n",
              "      <td>38.116737</td>\n",
              "      <td>38.698682</td>\n",
              "      <td>1.063881</td>\n",
              "      <td>1.025764</td>\n",
              "      <td>0.957103</td>\n",
              "      <td>0.495546</td>\n",
              "    </tr>\n",
              "    <tr>\n",
              "      <th>min</th>\n",
              "      <td>0.000000</td>\n",
              "      <td>0.000000</td>\n",
              "      <td>7.000000</td>\n",
              "      <td>0.000000</td>\n",
              "      <td>0.000000</td>\n",
              "      <td>31.000000</td>\n",
              "      <td>0.000000</td>\n",
              "      <td>0.000000</td>\n",
              "      <td>0.000000</td>\n",
              "      <td>0.000000</td>\n",
              "      <td>0.000000</td>\n",
              "      <td>0.000000</td>\n",
              "      <td>0.000000</td>\n",
              "      <td>0.000000</td>\n",
              "      <td>0.000000</td>\n",
              "      <td>0.000000</td>\n",
              "      <td>1.000000</td>\n",
              "      <td>0.000000</td>\n",
              "      <td>0.000000</td>\n",
              "      <td>0.000000</td>\n",
              "      <td>0.000000</td>\n",
              "      <td>0.000000</td>\n",
              "      <td>0.250000</td>\n",
              "      <td>0.750000</td>\n",
              "      <td>0.750000</td>\n",
              "      <td>0.000000</td>\n",
              "    </tr>\n",
              "    <tr>\n",
              "      <th>25%</th>\n",
              "      <td>0.000000</td>\n",
              "      <td>1.000000</td>\n",
              "      <td>27.000000</td>\n",
              "      <td>0.000000</td>\n",
              "      <td>0.000000</td>\n",
              "      <td>414.000000</td>\n",
              "      <td>2.000000</td>\n",
              "      <td>2.000000</td>\n",
              "      <td>2.000000</td>\n",
              "      <td>2.000000</td>\n",
              "      <td>2.000000</td>\n",
              "      <td>2.000000</td>\n",
              "      <td>2.000000</td>\n",
              "      <td>2.000000</td>\n",
              "      <td>2.000000</td>\n",
              "      <td>2.000000</td>\n",
              "      <td>3.000000</td>\n",
              "      <td>3.000000</td>\n",
              "      <td>3.000000</td>\n",
              "      <td>2.000000</td>\n",
              "      <td>0.000000</td>\n",
              "      <td>0.000000</td>\n",
              "      <td>2.000000</td>\n",
              "      <td>2.500000</td>\n",
              "      <td>2.750000</td>\n",
              "      <td>0.000000</td>\n",
              "    </tr>\n",
              "    <tr>\n",
              "      <th>50%</th>\n",
              "      <td>1.000000</td>\n",
              "      <td>1.000000</td>\n",
              "      <td>40.000000</td>\n",
              "      <td>1.000000</td>\n",
              "      <td>1.000000</td>\n",
              "      <td>842.000000</td>\n",
              "      <td>3.000000</td>\n",
              "      <td>3.000000</td>\n",
              "      <td>3.000000</td>\n",
              "      <td>3.000000</td>\n",
              "      <td>3.000000</td>\n",
              "      <td>3.000000</td>\n",
              "      <td>4.000000</td>\n",
              "      <td>4.000000</td>\n",
              "      <td>4.000000</td>\n",
              "      <td>4.000000</td>\n",
              "      <td>4.000000</td>\n",
              "      <td>3.000000</td>\n",
              "      <td>4.000000</td>\n",
              "      <td>3.000000</td>\n",
              "      <td>0.000000</td>\n",
              "      <td>0.000000</td>\n",
              "      <td>3.000000</td>\n",
              "      <td>3.500000</td>\n",
              "      <td>3.750000</td>\n",
              "      <td>0.000000</td>\n",
              "    </tr>\n",
              "    <tr>\n",
              "      <th>75%</th>\n",
              "      <td>1.000000</td>\n",
              "      <td>1.000000</td>\n",
              "      <td>51.000000</td>\n",
              "      <td>1.000000</td>\n",
              "      <td>2.000000</td>\n",
              "      <td>1743.000000</td>\n",
              "      <td>4.000000</td>\n",
              "      <td>4.000000</td>\n",
              "      <td>4.000000</td>\n",
              "      <td>4.000000</td>\n",
              "      <td>4.000000</td>\n",
              "      <td>4.000000</td>\n",
              "      <td>5.000000</td>\n",
              "      <td>4.000000</td>\n",
              "      <td>4.000000</td>\n",
              "      <td>4.000000</td>\n",
              "      <td>5.000000</td>\n",
              "      <td>4.000000</td>\n",
              "      <td>5.000000</td>\n",
              "      <td>4.000000</td>\n",
              "      <td>12.000000</td>\n",
              "      <td>13.000000</td>\n",
              "      <td>3.750000</td>\n",
              "      <td>4.000000</td>\n",
              "      <td>4.000000</td>\n",
              "      <td>1.000000</td>\n",
              "    </tr>\n",
              "    <tr>\n",
              "      <th>max</th>\n",
              "      <td>1.000000</td>\n",
              "      <td>1.000000</td>\n",
              "      <td>85.000000</td>\n",
              "      <td>1.000000</td>\n",
              "      <td>2.000000</td>\n",
              "      <td>4983.000000</td>\n",
              "      <td>5.000000</td>\n",
              "      <td>5.000000</td>\n",
              "      <td>5.000000</td>\n",
              "      <td>5.000000</td>\n",
              "      <td>5.000000</td>\n",
              "      <td>5.000000</td>\n",
              "      <td>5.000000</td>\n",
              "      <td>5.000000</td>\n",
              "      <td>5.000000</td>\n",
              "      <td>5.000000</td>\n",
              "      <td>5.000000</td>\n",
              "      <td>5.000000</td>\n",
              "      <td>5.000000</td>\n",
              "      <td>5.000000</td>\n",
              "      <td>1592.000000</td>\n",
              "      <td>1584.000000</td>\n",
              "      <td>5.000000</td>\n",
              "      <td>5.000000</td>\n",
              "      <td>5.000000</td>\n",
              "      <td>1.000000</td>\n",
              "    </tr>\n",
              "  </tbody>\n",
              "</table>\n",
              "</div>"
            ],
            "text/plain": [
              "              Gender  Customer Type  ...        Service   satisfaction\n",
              "count  103594.000000  103594.000000  ...  103594.000000  103594.000000\n",
              "mean        0.507520       0.817248  ...       3.501614       0.433394\n",
              "std         0.499946       0.386465  ...       0.957103       0.495546\n",
              "min         0.000000       0.000000  ...       0.750000       0.000000\n",
              "25%         0.000000       1.000000  ...       2.750000       0.000000\n",
              "50%         1.000000       1.000000  ...       3.750000       0.000000\n",
              "75%         1.000000       1.000000  ...       4.000000       1.000000\n",
              "max         1.000000       1.000000  ...       5.000000       1.000000\n",
              "\n",
              "[8 rows x 26 columns]"
            ]
          },
          "metadata": {},
          "execution_count": 101
        }
      ]
    },
    {
      "cell_type": "markdown",
      "metadata": {
        "id": "jXjDltdHmevM"
      },
      "source": [
        "From the described function of the train dataset, we can know that the data amount of each feature are similar which there had no missing value and each feature are balanced distributed. We also can see that there had no big difference in the mean data, most of them are positive values so we may not need to normalise the data for the decision tree and logistic model but we still need to normalise the data into 1 and 0 for the neural net model due to the activation function."
      ]
    },
    {
      "cell_type": "code",
      "metadata": {
        "colab": {
          "base_uri": "https://localhost:8080/"
        },
        "id": "nb2TxopULBi_",
        "outputId": "b9899ea1-0d53-4b48-971e-f48557014ed4"
      },
      "source": [
        "df_train.nunique()"
      ],
      "execution_count": null,
      "outputs": [
        {
          "output_type": "execute_result",
          "data": {
            "text/plain": [
              "Gender                                  2\n",
              "Customer Type                           2\n",
              "Age                                    75\n",
              "Type of Travel                          2\n",
              "Class                                   3\n",
              "Flight Distance                      3802\n",
              "Inflight wifi service                   6\n",
              "Departure/Arrival time convenient       6\n",
              "Ease of Online booking                  6\n",
              "Gate location                           6\n",
              "Food and drink                          6\n",
              "Online boarding                         6\n",
              "Seat comfort                            6\n",
              "Inflight entertainment                  6\n",
              "On-board service                        6\n",
              "Leg room service                        6\n",
              "Baggage handling                        5\n",
              "Checkin service                         6\n",
              "Inflight service                        6\n",
              "Cleanliness                             6\n",
              "Departure Delay in Minutes            445\n",
              "Arrival Delay in Minutes              455\n",
              "Order                                  20\n",
              "Comfort                                18\n",
              "Service                                18\n",
              "satisfaction                            2\n",
              "dtype: int64"
            ]
          },
          "metadata": {},
          "execution_count": 102
        }
      ]
    },
    {
      "cell_type": "markdown",
      "metadata": {
        "id": "kiOlqfxhIWZm"
      },
      "source": [
        "The nunique function will help us to recognise how many different values are existing in each feature. From the result, we can see that our target feature (satisfaction) is a binary flag which only contains 1 and 0."
      ]
    },
    {
      "cell_type": "code",
      "metadata": {
        "colab": {
          "base_uri": "https://localhost:8080/"
        },
        "id": "6Fst-HpALF8d",
        "outputId": "b6a6f5f1-f68d-4968-f8f5-bf7705f3c6b2"
      },
      "source": [
        "df_train.isnull()\n",
        "df_train.isnull().sum()"
      ],
      "execution_count": null,
      "outputs": [
        {
          "output_type": "execute_result",
          "data": {
            "text/plain": [
              "Gender                               0\n",
              "Customer Type                        0\n",
              "Age                                  0\n",
              "Type of Travel                       0\n",
              "Class                                0\n",
              "Flight Distance                      0\n",
              "Inflight wifi service                0\n",
              "Departure/Arrival time convenient    0\n",
              "Ease of Online booking               0\n",
              "Gate location                        0\n",
              "Food and drink                       0\n",
              "Online boarding                      0\n",
              "Seat comfort                         0\n",
              "Inflight entertainment               0\n",
              "On-board service                     0\n",
              "Leg room service                     0\n",
              "Baggage handling                     0\n",
              "Checkin service                      0\n",
              "Inflight service                     0\n",
              "Cleanliness                          0\n",
              "Departure Delay in Minutes           0\n",
              "Arrival Delay in Minutes             0\n",
              "Order                                0\n",
              "Comfort                              0\n",
              "Service                              0\n",
              "satisfaction                         0\n",
              "dtype: int64"
            ]
          },
          "metadata": {},
          "execution_count": 103
        }
      ]
    },
    {
      "cell_type": "markdown",
      "metadata": {
        "id": "Reumfhi0JjDb"
      },
      "source": [
        "This function shows, is there any missing value exist from each feature. And we can identify in this instance there is no missing value. Therefore, we don't need to any worry about the missing values when train and test the data."
      ]
    },
    {
      "cell_type": "code",
      "metadata": {
        "colab": {
          "base_uri": "https://localhost:8080/"
        },
        "id": "AGdQ2xjNLMW1",
        "outputId": "8ba35596-811e-4e71-a01c-bb4bd74ae7cb"
      },
      "source": [
        "sns.displot(data=df_train, x='satisfaction')"
      ],
      "execution_count": null,
      "outputs": [
        {
          "output_type": "execute_result",
          "data": {
            "text/plain": [
              "<seaborn.axisgrid.FacetGrid at 0x7f079b4c09d0>"
            ]
          },
          "metadata": {},
          "execution_count": 104
        },
        {
          "output_type": "display_data",
          "data": {
            "image/png": "[encoded data removed]",
            "text/plain": [
              "<Figure size 360x360 with 1 Axes>"
            ]
          },
          "metadata": {
            "needs_background": "light"
          }
        }
      ]
    },
    {
      "cell_type": "markdown",
      "metadata": {
        "id": "9Ir58Y6rJuDD"
      },
      "source": [
        "This function shows how much data exist in each value. It has data values of 'satisfaction' 0 and 1, which are target data. Of each data value, 0 has nearly 60000 data and 1 can identify that it has nearly 50000. \n",
        "\n",
        "With the above function, it shows satisfaction have more value at 0 than 1."
      ]
    },
    {
      "cell_type": "code",
      "metadata": {
        "id": "QxzrW7ZO9nfR",
        "colab": {
          "base_uri": "https://localhost:8080/"
        },
        "outputId": "ffbd2b7f-7744-41b0-ae8b-4bc2c775a427"
      },
      "source": [
        "df_train['satisfaction'].value_counts()"
      ],
      "execution_count": null,
      "outputs": [
        {
          "output_type": "execute_result",
          "data": {
            "text/plain": [
              "0    58697\n",
              "1    44897\n",
              "Name: satisfaction, dtype: int64"
            ]
          },
          "metadata": {},
          "execution_count": 4
        }
      ]
    },
    {
      "cell_type": "markdown",
      "metadata": {
        "id": "Os6uY6jVFCoN"
      },
      "source": [
        "This is satisfaction data balance. 0 is 58697, 1 is 44897. It can be seen that 0 is greater than 1 for this data balance."
      ]
    },
    {
      "cell_type": "code",
      "metadata": {
        "colab": {
          "base_uri": "https://localhost:8080/"
        },
        "id": "S4GApgOsTxAF",
        "outputId": "cc32335c-d009-4720-efb3-94d2c96dcef2"
      },
      "source": [
        "# Correlation with the target data\n",
        "df_train.corrwith(df_train['satisfaction']).drop('satisfaction').sort_values() #use to figure out the lowest corelated"
      ],
      "execution_count": null,
      "outputs": [
        {
          "output_type": "execute_result",
          "data": {
            "text/plain": [
              "Arrival Delay in Minutes            -0.057582\n",
              "Departure/Arrival time convenient   -0.051718\n",
              "Departure Delay in Minutes          -0.050515\n",
              "Gender                              -0.012356\n",
              "Gate location                        0.000449\n",
              "Order                                0.126647\n",
              "Age                                  0.137040\n",
              "Ease of Online booking               0.171507\n",
              "Customer Type                        0.187558\n",
              "Food and drink                       0.209659\n",
              "Checkin service                      0.235914\n",
              "Inflight service                     0.244852\n",
              "Baggage handling                     0.247819\n",
              "Inflight wifi service                0.284163\n",
              "Flight Distance                      0.298915\n",
              "Cleanliness                          0.305050\n",
              "Leg room service                     0.313182\n",
              "On-board service                     0.322450\n",
              "Seat comfort                         0.349112\n",
              "Service                              0.367752\n",
              "Inflight entertainment               0.398203\n",
              "Type of Travel                       0.448995\n",
              "Comfort                              0.475097\n",
              "Class                                0.494545\n",
              "Online boarding                      0.503447\n",
              "dtype: float64"
            ]
          },
          "metadata": {},
          "execution_count": 105
        }
      ]
    },
    {
      "cell_type": "markdown",
      "metadata": {
        "id": "09Ck30ZGT2Sz"
      },
      "source": [
        "Looking at the identified correlation above shows what features are related to the target feature, which is satisfaction. And it can be seen that the saturation has a higher correlation as the feature goes down. At this time, the 'Arrival Delay in Minutes' feature does not affect the target. In the case of features that have little or no effect, training data can affect accuracy and error. For example, if the target's data does not have features and correlation, that much error occurs. This means poor accuracy. When our group predicted the target using all of the above data, we got the High bias result. So that, our group had decided to exclude some of the features which have a low relation rate with satisfaction. Therefore, the features with less than 0.1 correlation will remove in the prepare data section to increase accuracy and decrease error.\n",
        "\n",
        "* Totally five features were chosen to except during train with 'decision tree model' and 'logistic regression model'\n",
        " * Arrival Delay in Minutes\n",
        " * Departure/Arrival time convenient\n",
        " * Departure Delay in Minutes\n",
        " * Gender\n",
        " * Gate location"
      ]
    },
    {
      "cell_type": "markdown",
      "metadata": {
        "id": "4dgbhHyeBSsp"
      },
      "source": [
        "In order for us to find high accuracy, we need to check the correlation with the target data first. Assignment defines Satisfaction as target data for prediction. Therefore, in order to correctly predict the data of the satisfaction target, the correlation of each feature was first confirmed through a heatmap."
      ]
    },
    {
      "cell_type": "code",
      "metadata": {
        "colab": {
          "base_uri": "https://localhost:8080/"
        },
        "id": "2ATkvk5_UBcw",
        "outputId": "27527970-03a9-4015-ed41-81e33fe04115"
      },
      "source": [
        "_, ax = plt.subplots(figsize=(20,20))\n",
        "correlation_matrix = df_train.drop(columns=['satisfaction']).corr().round(2)\n",
        "sns.heatmap(data=correlation_matrix, annot=True, ax=ax); \n",
        "#Use to figure out the relationship between each feature"
      ],
      "execution_count": null,
      "outputs": [
        {
          "output_type": "display_data",
          "data": {
            "image/png": "[encoded data removed]",
            "text/plain": [
              "<Figure size 1440x1440 with 2 Axes>"
            ]
          },
          "metadata": {
            "needs_background": "light"
          }
        }
      ]
    },
    {
      "cell_type": "markdown",
      "metadata": {
        "id": "o_WMwvU8UHtA"
      },
      "source": [
        "Many features in the heatmap matrix above have correlations. But if we add too many correlation features to the model, it can be that we consider features that the model does not need. For example, in the heatmap above, 'Department Delay in Minutes' and 'Arrival Delay in Minutes' have a high correlation of 0.97. Adding these two similar features can train overlapping elements and, as a result, affect the accuracy of the target. Therefore, we dropped features such as 'Department Delay in Minutes', 'Order', 'Comfort', and 'Service' from the train model to remove duplication that has a correlation rate over 0.75.\n",
        "\n",
        "This high correlation removal does not apply to the Decision tree, but only to the Logistic Regression model. This is because the logistic regression model easily changes the size of the correlation coefficients and is sensitive to noise even with small changes in data. And if the high correlation is not removed, the risk of overfitting increases and can have a fatal impact on the regression model. In the regression problem, we want to find out how the y variable changes when each x variable changes by one unit. In this case, the remaining variables are treated as fixed constants, but other variables in the dependent relationship cannot be fixed. As a result, the weight cannot be properly determined in the regression problem. Therefore, in the logistic regression model, high correlation needs to be removed to obtain high accuracy. However, when using the decision tree model, it has its feature selection mechanism built in. Therefore, removing a high correlation does not significantly affect the results, and the accuracy may decrease."
      ]
    },
    {
      "cell_type": "markdown",
      "metadata": {
        "id": "znAX2IobKYYM"
      },
      "source": [
        "---\n",
        "Total Description of understanding the data.\n",
        "* This project has totally 103594 data set with 26 features.\n",
        "* There are no missing values from all of the features.\n",
        "* Target data of this project is [`satisfaction`]()\n",
        " * Satisfaction have two different value, which are 0 or 1.\n",
        " *  Satisfaction have more value of 0 than value of 1."
      ]
    },
    {
      "cell_type": "markdown",
      "metadata": {
        "id": "SwVIx7Nn0U3r"
      },
      "source": [
        "##Task 1b) Select a Metric"
      ]
    },
    {
      "cell_type": "markdown",
      "metadata": {
        "id": "McPG1LAf00FQ"
      },
      "source": [
        "Metric evaluates the performance of the model by comparing the model's prediction with the actual results given in the test set. Therefore, in machine learning, it can identify whether the goal is achieved well through this Metric. \n",
        "\n",
        "In this Assignment, the evaluation Metric helps determine the performance of three models: Logistic Regression, a Decision Tree, and Feed-Forward Neural Net. And among the three models, the best model can be determined and selected according to Recall, Precision, and F-1. Each element can act differently depending on the perspective that the user considers important. Therefore, our group assumed that the importance of variables of all factors, not specific factors, should be considered.\n",
        "\n",
        "The evaluation metric used in the Assignment data set evaluates the performance of each model through **Accuracy** and **F1-score**. Accuracy is an evaluation metric that intuitively represents model predictive performance. Therefore, we provide information so that we can determine how much the predicted data is the same as real data. However, in the case of binary classification, model performance can be distorted depending on the configuration of the data, so performance cannot be evaluated with only one accuracy value. In particular, for an unbalanced label value distribution, checking performance with accuracy is limited. To address these issues, performance can be evaluated using an F1-score. F1 score represents the harmonic mean of precision and recall, which has a compromise between each precision and recall value and is used when the data is unbalanced. We can select a model based on Precision and recall, but our group assumes that both precision and recall are important. Therefore, when selecting three models, we aim to select the most accurate model measured through F1-score and accuracy."
      ]
    },
    {
      "cell_type": "markdown",
      "metadata": {
        "id": "xW4K34rKz0Ou"
      },
      "source": [
        "##Task 1c) Prepare data"
      ]
    },
    {
      "cell_type": "markdown",
      "metadata": {
        "id": "mBaNnEr3Y2vG"
      },
      "source": [
        " For the data partition, we decide to use cross-validation for two reasons.\n",
        "1. **To prevent the model get overfitting or underfitting of the model**: It is really hard to decide the accurate percentage should we split from the training data set to get the validation data which is the dev set because the dev set had a lot of uncertainty. To select a good model for training the dev set need to be large enough to detect meaning full accuracy changes of our model, but if the dev set is too large the model will become overfitting because we may don't have enough train data to train the model and if the dev too small the model will likely become underfitting. The cross-validation can help us to decide how many dev sets do we need and prepare multiple dev set for us to train the model which can prevent the model get overfitting or underfitting because we don't do it manually.\n",
        "\n",
        "2. **Multiple model selection**: In this assignment, we will need to train 3 models with different hyperparameters. If we do the dev data split manually we will end up only having a single dev set which is not a good approach because the different models had different complexity and hyperparameter. For example, the single dev set may fit the decision tree model, but it may become overfitting in the logistic regression model. Therefore, the best approach is to use cross-validation because it will prepare multiple dev set for us depending on the k-fold which can allow us to train multiple models with multiple dev sets and help us figure out the best model for further data prediction.\n"
      ]
    },
    {
      "cell_type": "markdown",
      "metadata": {
        "id": "FdKpdqjPSj-B"
      },
      "source": [
        "### Data For Decision Tree\n"
      ]
    },
    {
      "cell_type": "markdown",
      "metadata": {
        "id": "ASTaDMwsd0K0"
      },
      "source": [
        "From the understanding data section above we had figured out the low correlated feature to the target, so in the data preparation for the decision tree we will start by dropping those low correlated features. "
      ]
    },
    {
      "cell_type": "code",
      "metadata": {
        "id": "yvm_IBpkT_V5"
      },
      "source": [
        "low_Corelated_DT = ['Arrival Delay in Minutes', 'Departure/Arrival time convenient','Departure Delay in Minutes','Gender','Gate location']\n",
        "df_train_DT = df_train.drop(low_Corelated_DT, axis=1)\n",
        "df_test_DT = df_test.drop(low_Corelated_DT, axis=1)"
      ],
      "execution_count": null,
      "outputs": []
    },
    {
      "cell_type": "markdown",
      "metadata": {
        "id": "SsdzCnuDNhx5"
      },
      "source": [
        "After cleaning the train and test dataset. Now we can split the data into train and test datasets for X and Y."
      ]
    },
    {
      "cell_type": "code",
      "metadata": {
        "id": "Qcy-lkSsUuLc"
      },
      "source": [
        "X_train_DT = df_train_DT.drop('satisfaction', axis=1)\n",
        "Y_train_DT = df_train_DT['satisfaction']\n",
        "X_test_DT = df_test_DT.drop('satisfaction', axis=1)\n",
        "Y_test_DT = df_test_DT['satisfaction']"
      ],
      "execution_count": null,
      "outputs": []
    },
    {
      "cell_type": "markdown",
      "metadata": {
        "id": "i3WXR8M3QD9j"
      },
      "source": [
        "Satisfaction is the target data for this project, so it had been dropped from the train and test data set."
      ]
    },
    {
      "cell_type": "code",
      "metadata": {
        "colab": {
          "base_uri": "https://localhost:8080/"
        },
        "id": "fIhKADp2VGK0",
        "outputId": "8bc6527f-56e8-44ba-a778-dc0e37de85a0"
      },
      "source": [
        "X_train_DT.shape, Y_train_DT.shape, X_test_DT.shape, Y_test_DT.shape"
      ],
      "execution_count": null,
      "outputs": [
        {
          "output_type": "execute_result",
          "data": {
            "text/plain": [
              "((103594, 20), (103594,), (25893, 20), (25893,))"
            ]
          },
          "metadata": {},
          "execution_count": 111
        }
      ]
    },
    {
      "cell_type": "markdown",
      "metadata": {
        "id": "wRxH_pbnQIUo"
      },
      "source": [
        "At the end of this preparation period for the decision tree model, the train and test dataset for the decision tree has 20 features. And those datasets containing 103594 and 25893 datasets respectively. X and Y have the same with train and test datasets respectively."
      ]
    },
    {
      "cell_type": "markdown",
      "metadata": {
        "id": "Q-_tM1oIVPs9"
      },
      "source": [
        "###Data for Logistic Regression "
      ]
    },
    {
      "cell_type": "markdown",
      "metadata": {
        "id": "WF6v-5YNVNbR"
      },
      "source": [
        "**Understanding the data** above was defined the high correlation **'Departure Delay in Minutes', 'Order', 'Comfort', 'Service'** in the heatmap. Therefore, we removed this high correlation feature to further increase the accuracy of 'satisfaction'."
      ]
    },
    {
      "cell_type": "code",
      "metadata": {
        "id": "nbmF0G7wVn-L"
      },
      "source": [
        "droppingFeatured_high_corelated_with_features= ['Departure Delay in Minutes','Order','Comfort','Service']\n",
        "df_train_LR= df_train.drop(droppingFeatured_high_corelated_with_features, axis=1)\n",
        "df_test_LR= df_test.drop(droppingFeatured_high_corelated_with_features, axis=1)"
      ],
      "execution_count": null,
      "outputs": []
    },
    {
      "cell_type": "markdown",
      "metadata": {
        "id": "lw5ejSMRifIi"
      },
      "source": [
        "As mentioned in the understanding data above, the features with low correction are as follows:\n",
        "\n",
        "*   Arrive Delay in Minutes\n",
        "*   Departure/Arrival time convenient\n",
        "*   Gender\n",
        "*   Gate location\n",
        "\n",
        "Therefore, each feature is dropped in the train data set and test data set through the function below."
      ]
    },
    {
      "cell_type": "code",
      "metadata": {
        "id": "xwmom7W4WE7r"
      },
      "source": [
        "droppingFeatured_low_Corelated_To_Target = ['Arrival Delay in Minutes', 'Departure/Arrival time convenient','Gender','Gate location']\n",
        "df_train_LR= df_train_LR.drop(droppingFeatured_low_Corelated_To_Target, axis=1)\n",
        "df_test_LR= df_test_LR.drop(droppingFeatured_low_Corelated_To_Target, axis=1)"
      ],
      "execution_count": null,
      "outputs": []
    },
    {
      "cell_type": "markdown",
      "metadata": {
        "id": "Q0vUvvZwVgM-"
      },
      "source": [
        "Since X_train_LR has only feature and Y_train_LR has only target data, remove the target from X_train_LR and add satisfaction, which is the target, to the new Y_train_LR."
      ]
    },
    {
      "cell_type": "code",
      "metadata": {
        "id": "ofS2PfdZ0D7N"
      },
      "source": [
        "X_train_LR = df_train_LR.drop('satisfaction', axis=1)\n",
        "Y_train_LR= df_train_LR['satisfaction']"
      ],
      "execution_count": null,
      "outputs": []
    },
    {
      "cell_type": "markdown",
      "metadata": {
        "id": "LyeYTWbWVkDI"
      },
      "source": [
        "Since X_test_LR has only feature and Y_test_LR has only target data, remove the target from X_test_LR and add satisfaction, which is the target, to the new Y_test_LR."
      ]
    },
    {
      "cell_type": "code",
      "metadata": {
        "id": "D_qqFs5w2MaC"
      },
      "source": [
        "X_test_LR = df_test_LR.drop('satisfaction', axis=1)\n",
        "Y_test_LR= df_test_LR['satisfaction']"
      ],
      "execution_count": null,
      "outputs": []
    },
    {
      "cell_type": "markdown",
      "metadata": {
        "id": "kO8X5RHhVmUH"
      },
      "source": [
        "Finally, in the logistic regression model prepare data, the X train data sample and the Y train data sample should be performed identically, and the same should be performed in the X test data sample and the Y test data sample. For example, If the sample values of train X and Y are different, an error occurs because each value performed when training the model is different. Therefore, each training sample value must be the same before training the model, and each test sample value also needs to be the same before testing the model."
      ]
    },
    {
      "cell_type": "code",
      "metadata": {
        "colab": {
          "base_uri": "https://localhost:8080/"
        },
        "id": "leYSK6eo2OCL",
        "outputId": "48985c12-9b81-48c7-a209-0cde212b2af4"
      },
      "source": [
        "X_train_LR.shape, Y_train_LR.shape, X_test_LR.shape, Y_test_LR.shape"
      ],
      "execution_count": null,
      "outputs": [
        {
          "output_type": "execute_result",
          "data": {
            "text/plain": [
              "((103594, 17), (103594,), (25893, 17), (25893,))"
            ]
          },
          "metadata": {},
          "execution_count": 26
        }
      ]
    },
    {
      "cell_type": "markdown",
      "metadata": {
        "id": "1QrqRz4Gw9dJ"
      },
      "source": [
        "We obtain a training data set containing 103594 samples and 17 features, and a test data set containing 25893 samples"
      ]
    },
    {
      "cell_type": "markdown",
      "metadata": {
        "id": "zBC_PYobMsCQ"
      },
      "source": [
        "###Data for Neural Net\n",
        "  "
      ]
    },
    {
      "cell_type": "markdown",
      "metadata": {
        "id": "TflOUMVhu4yN"
      },
      "source": [
        "To prepare the data for the Neural Net. First, we need to figure out the X Y train and test data. Since we already had the complete train and test dataset, so we just need to use the drop function from the pandas to drop the feature and target feature from the column of the dataset. The target feature will form the Y train and test. The other feature will form X train and test."
      ]
    },
    {
      "cell_type": "code",
      "metadata": {
        "colab": {
          "base_uri": "https://localhost:8080/"
        },
        "id": "Wft41YV7MsCX",
        "outputId": "5f0080ca-603a-49eb-d5f8-56c197d70c65"
      },
      "source": [
        "X_train_NN = df_train.drop('satisfaction', axis=1)\n",
        "Y_train_NN = df_train['satisfaction']\n",
        "X_test_NN = df_test.drop('satisfaction', axis = 1)\n",
        "Y_test_NN = df_test['satisfaction']\n",
        "\n",
        "X_train_NN.shape, Y_train_NN.shape, X_test_NN.shape, Y_test_NN.shape"
      ],
      "execution_count": null,
      "outputs": [
        {
          "output_type": "execute_result",
          "data": {
            "text/plain": [
              "((103594, 25), (103594,), (25893, 25), (25893,))"
            ]
          },
          "metadata": {},
          "execution_count": 50
        }
      ]
    },
    {
      "cell_type": "markdown",
      "metadata": {
        "id": "UT2faKEg1ww9"
      },
      "source": [
        "Based on the result after we drop the columns. We can know that the X Y train and test dataset had the same sample amount which is 103594 for the train and 25893 for the test dataset. This means that the train and test dataset get separated well into X Y test and train. "
      ]
    },
    {
      "cell_type": "markdown",
      "metadata": {
        "id": "PqQQ8ORJNR1f"
      },
      "source": [
        "####Transform the Data"
      ]
    },
    {
      "cell_type": "markdown",
      "metadata": {
        "id": "b8ANxwk087wR"
      },
      "source": [
        "Next, we will need to normalise the data into 0 to 1 or -1 to 1 which can provide more data flexibility to the neural net activation function while training the data. To be able to normalise the data we may need to figure out the maximum amount of each feature and divide the feature by their maximum amount, so the result will likely become 0 to 1. The target feature which is the Y test and train only had 2 unique value which is 0 and 1 so we don't need to normalise them."
      ]
    },
    {
      "cell_type": "code",
      "metadata": {
        "colab": {
          "base_uri": "https://localhost:8080/"
        },
        "id": "lGlazx0AMsCZ",
        "outputId": "1f40d55c-854a-4ab5-8f2e-02fa67c6d991"
      },
      "source": [
        "X_train_NN.max()"
      ],
      "execution_count": null,
      "outputs": [
        {
          "output_type": "execute_result",
          "data": {
            "text/plain": [
              "Gender                                  1.0\n",
              "Customer Type                           1.0\n",
              "Age                                    85.0\n",
              "Type of Travel                          1.0\n",
              "Class                                   2.0\n",
              "Flight Distance                      4983.0\n",
              "Inflight wifi service                   5.0\n",
              "Departure/Arrival time convenient       5.0\n",
              "Ease of Online booking                  5.0\n",
              "Gate location                           5.0\n",
              "Food and drink                          5.0\n",
              "Online boarding                         5.0\n",
              "Seat comfort                            5.0\n",
              "Inflight entertainment                  5.0\n",
              "On-board service                        5.0\n",
              "Leg room service                        5.0\n",
              "Baggage handling                        5.0\n",
              "Checkin service                         5.0\n",
              "Inflight service                        5.0\n",
              "Cleanliness                             5.0\n",
              "Departure Delay in Minutes           1592.0\n",
              "Arrival Delay in Minutes             1584.0\n",
              "Order                                   5.0\n",
              "Comfort                                 5.0\n",
              "Service                                 5.0\n",
              "dtype: float64"
            ]
          },
          "metadata": {},
          "execution_count": 51
        }
      ]
    },
    {
      "cell_type": "code",
      "metadata": {
        "id": "cVsjYDqLMsCa"
      },
      "source": [
        "X_train_NN['Age'] = X_train_NN['Age']/85\n",
        "X_train_NN['Class'] = X_train_NN['Class']/2\n",
        "X_train_NN['Flight Distance'] = X_train_NN['Flight Distance']/4983\n",
        "#feature with max 5\n",
        "for f in ['Inflight wifi service','Departure/Arrival time convenient','Ease of Online booking','Gate location','Food and drink','Online boarding','Seat comfort',\n",
        " 'Inflight entertainment','On-board service','Leg room service','Baggage handling','Checkin service','Inflight service','Cleanliness','Order','Comfort','Service']:\n",
        " X_train_NN[f] = X_train_NN[f]/5\n",
        "\n",
        "X_train_NN['Departure Delay in Minutes'] = X_train_NN['Departure Delay in Minutes']/1592\n",
        "X_train_NN['Arrival Delay in Minutes'] = X_train_NN['Arrival Delay in Minutes']/1584"
      ],
      "execution_count": null,
      "outputs": []
    },
    {
      "cell_type": "code",
      "metadata": {
        "colab": {
          "base_uri": "https://localhost:8080/"
        },
        "id": "ITfSYdzmMsCa",
        "outputId": "ff87094c-ce4d-4406-e821-8747950b170f"
      },
      "source": [
        "X_train_NN.min()"
      ],
      "execution_count": null,
      "outputs": [
        {
          "output_type": "execute_result",
          "data": {
            "text/plain": [
              "Gender                               0.000000\n",
              "Customer Type                        0.000000\n",
              "Age                                  0.082353\n",
              "Type of Travel                       0.000000\n",
              "Class                                0.000000\n",
              "Flight Distance                      0.006221\n",
              "Inflight wifi service                0.000000\n",
              "Departure/Arrival time convenient    0.000000\n",
              "Ease of Online booking               0.000000\n",
              "Gate location                        0.000000\n",
              "Food and drink                       0.000000\n",
              "Online boarding                      0.000000\n",
              "Seat comfort                         0.000000\n",
              "Inflight entertainment               0.000000\n",
              "On-board service                     0.000000\n",
              "Leg room service                     0.000000\n",
              "Baggage handling                     0.200000\n",
              "Checkin service                      0.000000\n",
              "Inflight service                     0.000000\n",
              "Cleanliness                          0.000000\n",
              "Departure Delay in Minutes           0.000000\n",
              "Arrival Delay in Minutes             0.000000\n",
              "Order                                0.050000\n",
              "Comfort                              0.150000\n",
              "Service                              0.150000\n",
              "dtype: float64"
            ]
          },
          "metadata": {},
          "execution_count": 53
        }
      ]
    },
    {
      "cell_type": "code",
      "metadata": {
        "colab": {
          "base_uri": "https://localhost:8080/"
        },
        "id": "qENXqh-QMsCa",
        "outputId": "cf704bd5-4af2-419a-b8e5-7d9dc2a3abd2"
      },
      "source": [
        "X_train_NN.max()"
      ],
      "execution_count": null,
      "outputs": [
        {
          "output_type": "execute_result",
          "data": {
            "text/plain": [
              "Gender                               1.0\n",
              "Customer Type                        1.0\n",
              "Age                                  1.0\n",
              "Type of Travel                       1.0\n",
              "Class                                1.0\n",
              "Flight Distance                      1.0\n",
              "Inflight wifi service                1.0\n",
              "Departure/Arrival time convenient    1.0\n",
              "Ease of Online booking               1.0\n",
              "Gate location                        1.0\n",
              "Food and drink                       1.0\n",
              "Online boarding                      1.0\n",
              "Seat comfort                         1.0\n",
              "Inflight entertainment               1.0\n",
              "On-board service                     1.0\n",
              "Leg room service                     1.0\n",
              "Baggage handling                     1.0\n",
              "Checkin service                      1.0\n",
              "Inflight service                     1.0\n",
              "Cleanliness                          1.0\n",
              "Departure Delay in Minutes           1.0\n",
              "Arrival Delay in Minutes             1.0\n",
              "Order                                1.0\n",
              "Comfort                              1.0\n",
              "Service                              1.0\n",
              "dtype: float64"
            ]
          },
          "metadata": {},
          "execution_count": 54
        }
      ]
    },
    {
      "cell_type": "markdown",
      "metadata": {
        "id": "2u5lS3vbN9zJ"
      },
      "source": [
        "We can see the min and max value of the X train dataset had become 0 and 1 after being divided which is the result that we expected. Next, do the same things with the X test dataset."
      ]
    },
    {
      "cell_type": "code",
      "metadata": {
        "colab": {
          "base_uri": "https://localhost:8080/"
        },
        "id": "oo5bMKECMsCb",
        "outputId": "99471b38-234c-4559-f6b6-bfaeece4bb41"
      },
      "source": [
        "X_test_NN.max()"
      ],
      "execution_count": null,
      "outputs": [
        {
          "output_type": "execute_result",
          "data": {
            "text/plain": [
              "Gender                                  1.0\n",
              "Customer Type                           1.0\n",
              "Age                                    85.0\n",
              "Type of Travel                          1.0\n",
              "Class                                   2.0\n",
              "Flight Distance                      4983.0\n",
              "Inflight wifi service                   5.0\n",
              "Departure/Arrival time convenient       5.0\n",
              "Ease of Online booking                  5.0\n",
              "Gate location                           5.0\n",
              "Food and drink                          5.0\n",
              "Online boarding                         5.0\n",
              "Seat comfort                            5.0\n",
              "Inflight entertainment                  5.0\n",
              "On-board service                        5.0\n",
              "Leg room service                        5.0\n",
              "Baggage handling                        5.0\n",
              "Checkin service                         5.0\n",
              "Inflight service                        5.0\n",
              "Cleanliness                             5.0\n",
              "Departure Delay in Minutes           1128.0\n",
              "Arrival Delay in Minutes             1115.0\n",
              "Order                                   5.0\n",
              "Comfort                                 5.0\n",
              "Service                                 5.0\n",
              "dtype: float64"
            ]
          },
          "metadata": {},
          "execution_count": 55
        }
      ]
    },
    {
      "cell_type": "code",
      "metadata": {
        "id": "_5CTlO6AMsCb"
      },
      "source": [
        "X_test_NN['Age'] = X_test_NN['Age']/85\n",
        "X_test_NN['Class'] = X_test_NN['Class']/2\n",
        "X_test_NN['Flight Distance'] = X_test_NN['Flight Distance']/4983\n",
        "#feature with max 5\n",
        "for f in ['Inflight wifi service','Departure/Arrival time convenient','Ease of Online booking','Gate location','Food and drink','Online boarding','Seat comfort',\n",
        " 'Inflight entertainment','On-board service','Leg room service','Baggage handling','Checkin service','Inflight service','Cleanliness','Order','Comfort','Service']:\n",
        " X_test_NN[f] = X_test_NN[f]/5\n",
        "\n",
        "X_test_NN['Departure Delay in Minutes'] = X_test_NN['Departure Delay in Minutes']/1128\n",
        "X_test_NN['Arrival Delay in Minutes'] = X_test_NN['Arrival Delay in Minutes']/1115"
      ],
      "execution_count": null,
      "outputs": []
    },
    {
      "cell_type": "code",
      "metadata": {
        "colab": {
          "base_uri": "https://localhost:8080/"
        },
        "id": "_6OBRukpMsCb",
        "outputId": "32a275e6-dd5a-4d1f-bd26-317604e2f439"
      },
      "source": [
        "X_test_NN.max()"
      ],
      "execution_count": null,
      "outputs": [
        {
          "output_type": "execute_result",
          "data": {
            "text/plain": [
              "Gender                               1.0\n",
              "Customer Type                        1.0\n",
              "Age                                  1.0\n",
              "Type of Travel                       1.0\n",
              "Class                                1.0\n",
              "Flight Distance                      1.0\n",
              "Inflight wifi service                1.0\n",
              "Departure/Arrival time convenient    1.0\n",
              "Ease of Online booking               1.0\n",
              "Gate location                        1.0\n",
              "Food and drink                       1.0\n",
              "Online boarding                      1.0\n",
              "Seat comfort                         1.0\n",
              "Inflight entertainment               1.0\n",
              "On-board service                     1.0\n",
              "Leg room service                     1.0\n",
              "Baggage handling                     1.0\n",
              "Checkin service                      1.0\n",
              "Inflight service                     1.0\n",
              "Cleanliness                          1.0\n",
              "Departure Delay in Minutes           1.0\n",
              "Arrival Delay in Minutes             1.0\n",
              "Order                                1.0\n",
              "Comfort                              1.0\n",
              "Service                              1.0\n",
              "dtype: float64"
            ]
          },
          "metadata": {},
          "execution_count": 57
        }
      ]
    },
    {
      "cell_type": "code",
      "metadata": {
        "colab": {
          "base_uri": "https://localhost:8080/"
        },
        "id": "Mygx9DI9MsCc",
        "outputId": "6bcd2be9-15b0-4e67-9b40-f66c731b3379"
      },
      "source": [
        "X_test_NN.min()"
      ],
      "execution_count": null,
      "outputs": [
        {
          "output_type": "execute_result",
          "data": {
            "text/plain": [
              "Gender                               0.000000\n",
              "Customer Type                        0.000000\n",
              "Age                                  0.082353\n",
              "Type of Travel                       0.000000\n",
              "Class                                0.000000\n",
              "Flight Distance                      0.006221\n",
              "Inflight wifi service                0.000000\n",
              "Departure/Arrival time convenient    0.000000\n",
              "Ease of Online booking               0.000000\n",
              "Gate location                        0.200000\n",
              "Food and drink                       0.000000\n",
              "Online boarding                      0.000000\n",
              "Seat comfort                         0.200000\n",
              "Inflight entertainment               0.000000\n",
              "On-board service                     0.000000\n",
              "Leg room service                     0.000000\n",
              "Baggage handling                     0.200000\n",
              "Checkin service                      0.200000\n",
              "Inflight service                     0.000000\n",
              "Cleanliness                          0.000000\n",
              "Departure Delay in Minutes           0.000000\n",
              "Arrival Delay in Minutes             0.000000\n",
              "Order                                0.050000\n",
              "Comfort                              0.150000\n",
              "Service                              0.150000\n",
              "dtype: float64"
            ]
          },
          "metadata": {},
          "execution_count": 58
        }
      ]
    },
    {
      "cell_type": "markdown",
      "metadata": {
        "id": "fHUh7J8yO9w3"
      },
      "source": [
        "Now the min and max of X test dataset had become 0 and 1 as well, which mean the dataset are now ready to train by the neural net model.\n"
      ]
    },
    {
      "cell_type": "markdown",
      "metadata": {
        "id": "4ajQhBgvLKFc"
      },
      "source": [
        "#Task 2. Train a Logistic Regression Model"
      ]
    },
    {
      "cell_type": "markdown",
      "metadata": {
        "id": "afNjfbZDLiTw"
      },
      "source": [
        "In order to test and train the logistic regression model, max_iter was set to 2000 according to the Assignment specification. Each train data set and test data set were predicted by applying to the Logistic Regression model through the data set defined in Prepare data."
      ]
    },
    {
      "cell_type": "code",
      "metadata": {
        "colab": {
          "base_uri": "https://localhost:8080/"
        },
        "id": "I_LUidIoLFNY",
        "outputId": "5133027d-1847-4497-89d4-bba4530392d4"
      },
      "source": [
        "L_model = LogisticRegression(max_iter=2000)\n",
        "L_model.fit(X_train_LR, Y_train_LR)\n",
        "Y_pred_test = L_model.predict(X_test_LR)\n",
        "Y_pred_train = L_model.predict(X_train_LR)"
      ],
      "execution_count": null,
      "outputs": [
        {
          "name": "stdout",
          "output_type": "stream",
          "text": [
            "              precision    recall  f1-score   support\n",
            "\n",
            "           0       0.87      0.90      0.89     14528\n",
            "           1       0.86      0.83      0.85     11365\n",
            "\n",
            "    accuracy                           0.87     25893\n",
            "   macro avg       0.87      0.86      0.87     25893\n",
            "weighted avg       0.87      0.87      0.87     25893\n",
            "\n",
            "              precision    recall  f1-score   support\n",
            "\n",
            "           0       0.88      0.90      0.89     58697\n",
            "           1       0.87      0.83      0.85     44897\n",
            "\n",
            "    accuracy                           0.87    103594\n",
            "   macro avg       0.87      0.87      0.87    103594\n",
            "weighted avg       0.87      0.87      0.87    103594\n",
            "\n"
          ]
        }
      ]
    },
    {
      "cell_type": "markdown",
      "metadata": {
        "id": "nM0cKQYhwDiA"
      },
      "source": [
        "After we predicted the test data, we can identify the classification report below that the sample data sets of train and test were predicted, respectively. "
      ]
    },
    {
      "cell_type": "code",
      "metadata": {
        "id": "Y_b6VcBGv2LP"
      },
      "source": [
        "print(classification_report(Y_test_LR, Y_pred_test))"
      ],
      "execution_count": null,
      "outputs": []
    },
    {
      "cell_type": "code",
      "metadata": {
        "id": "CmfB6HYCv_jC"
      },
      "source": [
        "print(classification_report(Y_train_LR, Y_pred_train))"
      ],
      "execution_count": null,
      "outputs": []
    },
    {
      "cell_type": "markdown",
      "metadata": {
        "id": "ufaS1ygPwJKF"
      },
      "source": [
        "The number of 'satisfaction' used in the Train data sample is 103594 that matched with the X and Y train set, and the number of 'satisfaction' used in the test data sample is 25893 that matched with the X and Y test set. Therefore, it can be said that it was well predicted because all data were used in each train and test. Looking at the train data prediction, in the case of 0, Precision is 87% that is the ratio of what the model is actually true among those classified as True, and Recall that is the ratio of the model predicted to be true among the actual true is 90%. Therefore, we can identify the f-1-score is 89%. In this way, when sample data for the value of 1 of 'satisfaction' is also calculated, it can be seen that the average f-1 score of the total sample data being trained is 87%. The predicted test data was also conducted in the same way and 87% accuracy was obtained. Finally, it can be seen that the predicted values of each train and test have little error. This can be defined as a well-predicted model without underfitting or overfitting."
      ]
    },
    {
      "cell_type": "markdown",
      "metadata": {
        "id": "YBN4l4SVAl1M"
      },
      "source": [
        "# Task 3. Train Decision Tree\n"
      ]
    },
    {
      "cell_type": "markdown",
      "metadata": {
        "id": "CFPbw7_47b8k"
      },
      "source": [
        "For the train of the decision tree model, we set the default value for the ‘min_samples_leaf’ and calculate the accuracies for each plot of cross-validation. And get the mean of those accuracies. After this, it will test to find the best value for the ‘min_samples_leaf’. And using the best accuracy result to show the accuracy, precision, recall and F1-score for the usage with this model."
      ]
    },
    {
      "cell_type": "code",
      "metadata": {
        "colab": {
          "base_uri": "https://localhost:8080/"
        },
        "id": "gRX5B66EAtpu",
        "outputId": "a506e674-03e9-4b09-cee4-5e0f5bde8485"
      },
      "source": [
        "# Test 1 Decision Tree\n",
        "model_DT = DecisionTreeClassifier(min_samples_leaf=5)\n",
        "scores = cross_val_score(model_DT, X_train_DT, Y_train_DT, cv = 5) \n",
        "scores"
      ],
      "execution_count": null,
      "outputs": [
        {
          "output_type": "execute_result",
          "data": {
            "text/plain": [
              "array([0.94710169, 0.94826005, 0.94806699, 0.94859791, 0.946713  ])"
            ]
          },
          "metadata": {},
          "execution_count": 113
        }
      ]
    },
    {
      "cell_type": "markdown",
      "metadata": {
        "id": "iRCc0OxrgmEx"
      },
      "source": [
        "A decision tree is trained with the train dataset and validated with the test dataset. If it only use the stationary test dataset, to repeat the process of verifying and modifying the model, the test dataset became overfitting. During the cross-validation, the train dataset had been divided into the train dataset and validation dataset.\n",
        "\n",
        "In this model, it had used the cross_val_score function. We had passed the decision tree model, the feature matrix and the target values for the training dataset, along with the number of cross-validations split. And in this function, we created a decision tree model, where min_sample_leaf is 5.\n",
        "\n",
        "From the above process, it represents 5 accuracies from each plot of cross-validation. Most of the rates are around 0.94, but there may have some deviations. The values, which closer to 1.0 are better results."
      ]
    },
    {
      "cell_type": "code",
      "metadata": {
        "colab": {
          "base_uri": "https://localhost:8080/"
        },
        "id": "EdFQH1uxAvNC",
        "outputId": "da858811-168a-4b2b-bfce-85722cf6136b"
      },
      "source": [
        "scores.mean() # accurancy of model"
      ],
      "execution_count": null,
      "outputs": [
        {
          "output_type": "execute_result",
          "data": {
            "text/plain": [
              "0.9477479290796195"
            ]
          },
          "metadata": {},
          "execution_count": 114
        }
      ]
    },
    {
      "cell_type": "markdown",
      "metadata": {
        "id": "C8qrCQU1cc7J"
      },
      "source": [
        "After the above process, it shows 5 accuracy rate results for each plot of cross-validation. And this mean value will show the estimated accuracy rate of our model. We can achieve about 94-95% accuracy rate."
      ]
    },
    {
      "cell_type": "code",
      "metadata": {
        "colab": {
          "base_uri": "https://localhost:8080/"
        },
        "id": "LKyQ2JydAwk-",
        "outputId": "11ba885b-eeaf-4e61-83a7-cf0fb81b4306"
      },
      "source": [
        "grid = GridSearchCV( DecisionTreeClassifier(), param_grid={'min_samples_leaf':[1,2,3,4,5,6,7,8,9,10,15,20,30,50]}, cv=5, verbose=3)\n",
        "grid.fit(X_train_DT, Y_train_DT)\n",
        "model_DT = grid.best_estimator_\n",
        "model_DT, grid.best_params_"
      ],
      "execution_count": null,
      "outputs": [
        {
          "output_type": "stream",
          "name": "stdout",
          "text": [
            "Fitting 5 folds for each of 14 candidates, totalling 70 fits\n",
            "[CV] min_samples_leaf=1 ..............................................\n"
          ]
        },
        {
          "output_type": "stream",
          "name": "stderr",
          "text": [
            "[Parallel(n_jobs=1)]: Using backend SequentialBackend with 1 concurrent workers.\n"
          ]
        },
        {
          "output_type": "stream",
          "name": "stdout",
          "text": [
            "[CV] .................. min_samples_leaf=1, score=0.944, total=   0.5s\n",
            "[CV] min_samples_leaf=1 ..............................................\n"
          ]
        },
        {
          "output_type": "stream",
          "name": "stderr",
          "text": [
            "[Parallel(n_jobs=1)]: Done   1 out of   1 | elapsed:    0.5s remaining:    0.0s\n"
          ]
        },
        {
          "output_type": "stream",
          "name": "stdout",
          "text": [
            "[CV] .................. min_samples_leaf=1, score=0.945, total=   0.5s\n",
            "[CV] min_samples_leaf=1 ..............................................\n"
          ]
        },
        {
          "output_type": "stream",
          "name": "stderr",
          "text": [
            "[Parallel(n_jobs=1)]: Done   2 out of   2 | elapsed:    1.0s remaining:    0.0s\n"
          ]
        },
        {
          "output_type": "stream",
          "name": "stdout",
          "text": [
            "[CV] .................. min_samples_leaf=1, score=0.944, total=   0.5s\n",
            "[CV] min_samples_leaf=1 ..............................................\n",
            "[CV] .................. min_samples_leaf=1, score=0.943, total=   0.5s\n",
            "[CV] min_samples_leaf=1 ..............................................\n",
            "[CV] .................. min_samples_leaf=1, score=0.944, total=   0.5s\n",
            "[CV] min_samples_leaf=2 ..............................................\n",
            "[CV] .................. min_samples_leaf=2, score=0.947, total=   0.5s\n",
            "[CV] min_samples_leaf=2 ..............................................\n",
            "[CV] .................. min_samples_leaf=2, score=0.946, total=   0.5s\n",
            "[CV] min_samples_leaf=2 ..............................................\n",
            "[CV] .................. min_samples_leaf=2, score=0.948, total=   0.5s\n",
            "[CV] min_samples_leaf=2 ..............................................\n",
            "[CV] .................. min_samples_leaf=2, score=0.945, total=   0.5s\n",
            "[CV] min_samples_leaf=2 ..............................................\n",
            "[CV] .................. min_samples_leaf=2, score=0.946, total=   0.5s\n",
            "[CV] min_samples_leaf=3 ..............................................\n",
            "[CV] .................. min_samples_leaf=3, score=0.945, total=   0.5s\n",
            "[CV] min_samples_leaf=3 ..............................................\n",
            "[CV] .................. min_samples_leaf=3, score=0.946, total=   0.5s\n",
            "[CV] min_samples_leaf=3 ..............................................\n",
            "[CV] .................. min_samples_leaf=3, score=0.945, total=   0.5s\n",
            "[CV] min_samples_leaf=3 ..............................................\n",
            "[CV] .................. min_samples_leaf=3, score=0.946, total=   0.5s\n",
            "[CV] min_samples_leaf=3 ..............................................\n",
            "[CV] .................. min_samples_leaf=3, score=0.946, total=   0.5s\n",
            "[CV] min_samples_leaf=4 ..............................................\n",
            "[CV] .................. min_samples_leaf=4, score=0.949, total=   0.5s\n",
            "[CV] min_samples_leaf=4 ..............................................\n",
            "[CV] .................. min_samples_leaf=4, score=0.948, total=   0.5s\n",
            "[CV] min_samples_leaf=4 ..............................................\n",
            "[CV] .................. min_samples_leaf=4, score=0.948, total=   0.5s\n",
            "[CV] min_samples_leaf=4 ..............................................\n",
            "[CV] .................. min_samples_leaf=4, score=0.949, total=   0.5s\n",
            "[CV] min_samples_leaf=4 ..............................................\n",
            "[CV] .................. min_samples_leaf=4, score=0.948, total=   0.5s\n",
            "[CV] min_samples_leaf=5 ..............................................\n",
            "[CV] .................. min_samples_leaf=5, score=0.947, total=   0.5s\n",
            "[CV] min_samples_leaf=5 ..............................................\n",
            "[CV] .................. min_samples_leaf=5, score=0.948, total=   0.5s\n",
            "[CV] min_samples_leaf=5 ..............................................\n",
            "[CV] .................. min_samples_leaf=5, score=0.948, total=   0.5s\n",
            "[CV] min_samples_leaf=5 ..............................................\n",
            "[CV] .................. min_samples_leaf=5, score=0.949, total=   0.5s\n",
            "[CV] min_samples_leaf=5 ..............................................\n",
            "[CV] .................. min_samples_leaf=5, score=0.947, total=   0.5s\n",
            "[CV] min_samples_leaf=6 ..............................................\n",
            "[CV] .................. min_samples_leaf=6, score=0.949, total=   0.5s\n",
            "[CV] min_samples_leaf=6 ..............................................\n",
            "[CV] .................. min_samples_leaf=6, score=0.949, total=   0.5s\n",
            "[CV] min_samples_leaf=6 ..............................................\n",
            "[CV] .................. min_samples_leaf=6, score=0.949, total=   0.5s\n",
            "[CV] min_samples_leaf=6 ..............................................\n",
            "[CV] .................. min_samples_leaf=6, score=0.948, total=   0.5s\n",
            "[CV] min_samples_leaf=6 ..............................................\n",
            "[CV] .................. min_samples_leaf=6, score=0.948, total=   0.5s\n",
            "[CV] min_samples_leaf=7 ..............................................\n",
            "[CV] .................. min_samples_leaf=7, score=0.950, total=   0.5s\n",
            "[CV] min_samples_leaf=7 ..............................................\n",
            "[CV] .................. min_samples_leaf=7, score=0.950, total=   0.5s\n",
            "[CV] min_samples_leaf=7 ..............................................\n",
            "[CV] .................. min_samples_leaf=7, score=0.949, total=   0.5s\n",
            "[CV] min_samples_leaf=7 ..............................................\n",
            "[CV] .................. min_samples_leaf=7, score=0.948, total=   0.4s\n",
            "[CV] min_samples_leaf=7 ..............................................\n",
            "[CV] .................. min_samples_leaf=7, score=0.948, total=   0.5s\n",
            "[CV] min_samples_leaf=8 ..............................................\n",
            "[CV] .................. min_samples_leaf=8, score=0.952, total=   0.4s\n",
            "[CV] min_samples_leaf=8 ..............................................\n",
            "[CV] .................. min_samples_leaf=8, score=0.950, total=   0.5s\n",
            "[CV] min_samples_leaf=8 ..............................................\n",
            "[CV] .................. min_samples_leaf=8, score=0.950, total=   0.5s\n",
            "[CV] min_samples_leaf=8 ..............................................\n",
            "[CV] .................. min_samples_leaf=8, score=0.949, total=   0.5s\n",
            "[CV] min_samples_leaf=8 ..............................................\n",
            "[CV] .................. min_samples_leaf=8, score=0.950, total=   0.4s\n",
            "[CV] min_samples_leaf=9 ..............................................\n",
            "[CV] .................. min_samples_leaf=9, score=0.950, total=   0.4s\n",
            "[CV] min_samples_leaf=9 ..............................................\n",
            "[CV] .................. min_samples_leaf=9, score=0.951, total=   0.5s\n",
            "[CV] min_samples_leaf=9 ..............................................\n",
            "[CV] .................. min_samples_leaf=9, score=0.950, total=   0.4s\n",
            "[CV] min_samples_leaf=9 ..............................................\n",
            "[CV] .................. min_samples_leaf=9, score=0.949, total=   0.5s\n",
            "[CV] min_samples_leaf=9 ..............................................\n",
            "[CV] .................. min_samples_leaf=9, score=0.951, total=   0.5s\n",
            "[CV] min_samples_leaf=10 .............................................\n",
            "[CV] ................. min_samples_leaf=10, score=0.950, total=   0.5s\n",
            "[CV] min_samples_leaf=10 .............................................\n",
            "[CV] ................. min_samples_leaf=10, score=0.951, total=   0.5s\n",
            "[CV] min_samples_leaf=10 .............................................\n",
            "[CV] ................. min_samples_leaf=10, score=0.950, total=   0.4s\n",
            "[CV] min_samples_leaf=10 .............................................\n",
            "[CV] ................. min_samples_leaf=10, score=0.949, total=   0.5s\n",
            "[CV] min_samples_leaf=10 .............................................\n",
            "[CV] ................. min_samples_leaf=10, score=0.952, total=   0.4s\n",
            "[CV] min_samples_leaf=15 .............................................\n",
            "[CV] ................. min_samples_leaf=15, score=0.950, total=   0.5s\n",
            "[CV] min_samples_leaf=15 .............................................\n",
            "[CV] ................. min_samples_leaf=15, score=0.950, total=   0.4s\n",
            "[CV] min_samples_leaf=15 .............................................\n",
            "[CV] ................. min_samples_leaf=15, score=0.949, total=   0.5s\n",
            "[CV] min_samples_leaf=15 .............................................\n",
            "[CV] ................. min_samples_leaf=15, score=0.950, total=   0.4s\n",
            "[CV] min_samples_leaf=15 .............................................\n",
            "[CV] ................. min_samples_leaf=15, score=0.951, total=   0.4s\n",
            "[CV] min_samples_leaf=20 .............................................\n",
            "[CV] ................. min_samples_leaf=20, score=0.952, total=   0.4s\n",
            "[CV] min_samples_leaf=20 .............................................\n",
            "[CV] ................. min_samples_leaf=20, score=0.949, total=   0.4s\n",
            "[CV] min_samples_leaf=20 .............................................\n",
            "[CV] ................. min_samples_leaf=20, score=0.950, total=   0.4s\n",
            "[CV] min_samples_leaf=20 .............................................\n",
            "[CV] ................. min_samples_leaf=20, score=0.950, total=   0.4s\n",
            "[CV] min_samples_leaf=20 .............................................\n",
            "[CV] ................. min_samples_leaf=20, score=0.952, total=   0.4s\n",
            "[CV] min_samples_leaf=30 .............................................\n",
            "[CV] ................. min_samples_leaf=30, score=0.949, total=   0.4s\n",
            "[CV] min_samples_leaf=30 .............................................\n",
            "[CV] ................. min_samples_leaf=30, score=0.949, total=   0.4s\n",
            "[CV] min_samples_leaf=30 .............................................\n",
            "[CV] ................. min_samples_leaf=30, score=0.949, total=   0.4s\n",
            "[CV] min_samples_leaf=30 .............................................\n",
            "[CV] ................. min_samples_leaf=30, score=0.950, total=   0.4s\n",
            "[CV] min_samples_leaf=30 .............................................\n",
            "[CV] ................. min_samples_leaf=30, score=0.951, total=   0.4s\n",
            "[CV] min_samples_leaf=50 .............................................\n",
            "[CV] ................. min_samples_leaf=50, score=0.946, total=   0.4s\n",
            "[CV] min_samples_leaf=50 .............................................\n",
            "[CV] ................. min_samples_leaf=50, score=0.946, total=   0.4s\n",
            "[CV] min_samples_leaf=50 .............................................\n",
            "[CV] ................. min_samples_leaf=50, score=0.946, total=   0.4s\n",
            "[CV] min_samples_leaf=50 .............................................\n",
            "[CV] ................. min_samples_leaf=50, score=0.946, total=   0.4s\n",
            "[CV] min_samples_leaf=50 .............................................\n",
            "[CV] ................. min_samples_leaf=50, score=0.947, total=   0.4s\n"
          ]
        },
        {
          "output_type": "stream",
          "name": "stderr",
          "text": [
            "[Parallel(n_jobs=1)]: Done  70 out of  70 | elapsed:   32.0s finished\n"
          ]
        },
        {
          "output_type": "execute_result",
          "data": {
            "text/plain": [
              "(DecisionTreeClassifier(ccp_alpha=0.0, class_weight=None, criterion='gini',\n",
              "                        max_depth=None, max_features=None, max_leaf_nodes=None,\n",
              "                        min_impurity_decrease=0.0, min_impurity_split=None,\n",
              "                        min_samples_leaf=20, min_samples_split=2,\n",
              "                        min_weight_fraction_leaf=0.0, presort='deprecated',\n",
              "                        random_state=None, splitter='best'),\n",
              " {'min_samples_leaf': 20})"
            ]
          },
          "metadata": {},
          "execution_count": 116
        }
      ]
    },
    {
      "cell_type": "markdown",
      "metadata": {
        "id": "x-Cr9hPPdEAO"
      },
      "source": [
        "In the above code, it had defined the list of hyperparameter values that we wish to tune. When the best hyperparameter value had been found, the parameter will be used for the entire training set and returned it. This best model is able accessed through the attribute of ‘best_estimator_’ and the value of hyperparameter can access through the attribute of ‘best_params’.\n",
        "\n",
        "In this model, the best value of the hyperparameter is 20. This means, if it generates the result with 20 ‘min_sample_leaf’,  the mean accuracy rate will be higher than any other hyperparameter value."
      ]
    },
    {
      "cell_type": "code",
      "metadata": {
        "colab": {
          "base_uri": "https://localhost:8080/"
        },
        "id": "Gr_Re3_VA000",
        "outputId": "6ecc0081-cf08-4236-fb84-fa75be0bacb6"
      },
      "source": [
        "Y_pred_test_DT = model_DT.predict(X_test_DT) # hidden data / unseen data\n",
        "Y_pred_train_DT = model_DT.predict(X_train_DT) # train dataset\n",
        "print(classification_report(Y_test_DT, Y_pred_test_DT))\n",
        "print(classification_report(Y_train_DT, Y_pred_train_DT))"
      ],
      "execution_count": null,
      "outputs": [
        {
          "output_type": "stream",
          "name": "stdout",
          "text": [
            "              precision    recall  f1-score   support\n",
            "\n",
            "           0       0.95      0.97      0.96     14528\n",
            "           1       0.96      0.93      0.94     11365\n",
            "\n",
            "    accuracy                           0.95     25893\n",
            "   macro avg       0.95      0.95      0.95     25893\n",
            "weighted avg       0.95      0.95      0.95     25893\n",
            "\n",
            "              precision    recall  f1-score   support\n",
            "\n",
            "           0       0.95      0.98      0.97     58697\n",
            "           1       0.97      0.94      0.95     44897\n",
            "\n",
            "    accuracy                           0.96    103594\n",
            "   macro avg       0.96      0.96      0.96    103594\n",
            "weighted avg       0.96      0.96      0.96    103594\n",
            "\n"
          ]
        }
      ]
    },
    {
      "cell_type": "markdown",
      "metadata": {
        "id": "KhOSigI4d-uR"
      },
      "source": [
        "First of all, the report shows the test data set have 25893 data and the train data set have 103594 data. And all of the samples of the train and test dataset are get predicted successfully.\n",
        "\n",
        "The purpose of this model is to expect the satisfaction rate based on the user's experience for service.\n",
        "\n",
        "In the train and test set, it shows precision with 96-97%, which means 96-97% of satisfaction had been predicted correctly from all amounts of satisfaction. And 3-4% of satisfaction had correct actual value but it had been expected wrong value.\n",
        "\n",
        "And it shows recall with a 97-98% rate, which means 97-98% of satisfaction had been predicted correctly from all amounts of satisfaction. And 2-3% of satisfaction had the wrong actual value so the expectation is wrong.\n",
        "\n",
        "F1 score is calculated with 'precision' and 'recall' correspondingly; it is the mean of both values. In this model, it shows 96-97%. Overall this result from the report train and test dataset has a tiny difference rate, and it provides the model are not get overfit or underfit.\n",
        "\n",
        "In the end, it needs to focus on the aim measurement, which is the accuracy and F1 score, in this model, it shows 95-96% and 96-97% respectively, which is showing great result because it is nearby 1 and which is expected to be predicted well for the UNSEEN data as well."
      ]
    },
    {
      "cell_type": "markdown",
      "metadata": {
        "id": "G3XMeAIx-0NA"
      },
      "source": [
        "# Task4. Train a Feed-Forward Neural Net\n"
      ]
    },
    {
      "cell_type": "markdown",
      "metadata": {
        "id": "677LXFhucCa0"
      },
      "source": [
        "To train a neural net, first, we need to transform the data which is done in the prepare data section at the top. Then we need to develop our network architecture. In our architecture, we only had 2 hidden layers and one output layer which is quite simple. \n",
        "\n",
        "* Hidden layer 1: 50 units, RELU activation, followed by Dropout (0.1)\n",
        "* Hidden layer 2: 50 units, RELU activation, Dropout (0.1)\n",
        "* Output layer: 1 units (target feature) with sogmoid activation.\n",
        "\n",
        "The only reason that we decide to include dropout in our model is to avoid the overfitting so the model can train more smoothly."
      ]
    },
    {
      "cell_type": "code",
      "metadata": {
        "id": "ARtk7ifa72QS"
      },
      "source": [
        "def get_ff_model():\n",
        "  model = Sequential()\n",
        "  # Hidden layer 1\n",
        "  model.add(Dense(50, input_shape=(25,))) #X train shape\n",
        "  model.add(Activation('relu'))\n",
        "  model.add(Dropout(0.1))\n",
        "\n",
        "  # Hidden layer 2\n",
        "  model.add(Dense(50))\n",
        "  model.add(Activation('relu'))\n",
        "  model.add(Dropout(0.1))\n",
        "\n",
        "\n",
        "  # Output layer\n",
        "  model.add(Dense(1))\n",
        "  model.add(Activation('sigmoid'))\n",
        "  return model\n",
        "model_NN= get_ff_model()"
      ],
      "execution_count": null,
      "outputs": []
    },
    {
      "cell_type": "code",
      "metadata": {
        "colab": {
          "base_uri": "https://localhost:8080/"
        },
        "id": "-U7TVhZ13IeM",
        "outputId": "c6c1620c-2bf6-4a30-b24c-8bcbde534078"
      },
      "source": [
        "model_NN.summary()"
      ],
      "execution_count": null,
      "outputs": [
        {
          "output_type": "stream",
          "name": "stdout",
          "text": [
            "Model: \"sequential_10\"\n",
            "_________________________________________________________________\n",
            "Layer (type)                 Output Shape              Param #   \n",
            "=================================================================\n",
            "dense_30 (Dense)             (None, 50)                1300      \n",
            "_________________________________________________________________\n",
            "activation_30 (Activation)   (None, 50)                0         \n",
            "_________________________________________________________________\n",
            "dropout_20 (Dropout)         (None, 50)                0         \n",
            "_________________________________________________________________\n",
            "dense_31 (Dense)             (None, 50)                2550      \n",
            "_________________________________________________________________\n",
            "activation_31 (Activation)   (None, 50)                0         \n",
            "_________________________________________________________________\n",
            "dropout_21 (Dropout)         (None, 50)                0         \n",
            "_________________________________________________________________\n",
            "dense_32 (Dense)             (None, 1)                 51        \n",
            "_________________________________________________________________\n",
            "activation_32 (Activation)   (None, 1)                 0         \n",
            "=================================================================\n",
            "Total params: 3,901\n",
            "Trainable params: 3,901\n",
            "Non-trainable params: 0\n",
            "_________________________________________________________________\n"
          ]
        }
      ]
    },
    {
      "cell_type": "markdown",
      "metadata": {
        "id": "yhK8M9rN5lq5"
      },
      "source": [
        "From the Summary of our neural network model, we can see the detail of the layer which contain the output shape and the learnable weights of each layer. \n",
        "\n",
        "From the output shape, we can see that \"None\" follow with \"50\" for the first two-layer which is the hidden layer and \"None\" follow with \"1\" for the output layer. The \"None\" mention for the amount of the samples of our dataset, since we can train the model with any number of data samples so we will not set the specific amount of the data samples in the model. The \"50\" is mentioned for the unit that the model needs to train which is related to the \"Dense\", the amount of the unit should be obtained from many times of experiments. In our case, the final train unit of our model is 50 and 1 for the output layer because our target feature is binary which means it is a binary classification. The total params (learnable weight) that our model must learn from our training data is 3,901."
      ]
    },
    {
      "cell_type": "markdown",
      "metadata": {
        "id": "A_r97PG7vuv_"
      },
      "source": [
        "Next, we will need to compile the model with the loss function, optimizer and the metrics that we selected to access the model.\n",
        "\n",
        "Since our target feature that we want to predict from classification data are binary which mean that it only had true or false, so the loss function that we will use in this model is \"binary_crossentropy\" which is a loss function that is specific for binary classification. For the optimizer, we used the most popular \"Adam\" optimizer with a default learning rate which can help us to minimise our data loss of the model. The metrics that we selected are 'accuracy' which is the metrics that we expected from the classification task."
      ]
    },
    {
      "cell_type": "code",
      "metadata": {
        "id": "RszUmDo65vWX"
      },
      "source": [
        "opt = Adam(learning_rate=0.001)\n",
        "model_NN.compile(loss='binary_crossentropy', optimizer=opt, metrics=['accuracy'])"
      ],
      "execution_count": null,
      "outputs": []
    },
    {
      "cell_type": "markdown",
      "metadata": {
        "id": "FIbqeaQB2lfN"
      },
      "source": [
        "After we compile the model, we can start to train the model.\n",
        "\n",
        "To select a good model we will hold 20% data from our training dataset and train the model with 128 samples per batch within 40 epochs. The performance of the 20% validation dataset will be our baseline to figure out the suitable epochs for the model, so the performance that we should consider during the training is \"loss\" and \"accuracy\" of training data set along with the \"val_loss\"."
      ]
    },
    {
      "cell_type": "code",
      "metadata": {
        "colab": {
          "base_uri": "https://localhost:8080/"
        },
        "id": "jTwOSV6ODAX_",
        "outputId": "986ff18d-39a1-4196-9163-4ac8aeacd706"
      },
      "source": [
        "history = model_NN.fit(X_train_NN, Y_train_NN, batch_size=128, epochs=40, validation_split=0.2, verbose=1)"
      ],
      "execution_count": null,
      "outputs": [
        {
          "output_type": "stream",
          "name": "stdout",
          "text": [
            "Epoch 1/40\n",
            "648/648 [==============================] - 2s 2ms/step - loss: 0.3494 - accuracy: 0.8501 - val_loss: 0.2136 - val_accuracy: 0.9155\n",
            "Epoch 2/40\n",
            "648/648 [==============================] - 1s 2ms/step - loss: 0.2145 - accuracy: 0.9134 - val_loss: 0.1653 - val_accuracy: 0.9345\n",
            "Epoch 3/40\n",
            "648/648 [==============================] - 1s 2ms/step - loss: 0.1843 - accuracy: 0.9250 - val_loss: 0.1472 - val_accuracy: 0.9413\n",
            "Epoch 4/40\n",
            "648/648 [==============================] - 1s 2ms/step - loss: 0.1697 - accuracy: 0.9304 - val_loss: 0.1415 - val_accuracy: 0.9432\n",
            "Epoch 5/40\n",
            "648/648 [==============================] - 1s 2ms/step - loss: 0.1584 - accuracy: 0.9350 - val_loss: 0.1337 - val_accuracy: 0.9458\n",
            "Epoch 6/40\n",
            "648/648 [==============================] - 1s 1ms/step - loss: 0.1537 - accuracy: 0.9361 - val_loss: 0.1317 - val_accuracy: 0.9476\n",
            "Epoch 7/40\n",
            "648/648 [==============================] - 1s 2ms/step - loss: 0.1483 - accuracy: 0.9376 - val_loss: 0.1284 - val_accuracy: 0.9471\n",
            "Epoch 8/40\n",
            "648/648 [==============================] - 1s 2ms/step - loss: 0.1448 - accuracy: 0.9394 - val_loss: 0.1256 - val_accuracy: 0.9490\n",
            "Epoch 9/40\n",
            "648/648 [==============================] - 1s 2ms/step - loss: 0.1414 - accuracy: 0.9412 - val_loss: 0.1259 - val_accuracy: 0.9493\n",
            "Epoch 10/40\n",
            "648/648 [==============================] - 1s 2ms/step - loss: 0.1383 - accuracy: 0.9424 - val_loss: 0.1217 - val_accuracy: 0.9517\n",
            "Epoch 11/40\n",
            "648/648 [==============================] - 1s 2ms/step - loss: 0.1349 - accuracy: 0.9444 - val_loss: 0.1172 - val_accuracy: 0.9524\n",
            "Epoch 12/40\n",
            "648/648 [==============================] - 1s 2ms/step - loss: 0.1326 - accuracy: 0.9447 - val_loss: 0.1158 - val_accuracy: 0.9528\n",
            "Epoch 13/40\n",
            "648/648 [==============================] - 1s 2ms/step - loss: 0.1289 - accuracy: 0.9458 - val_loss: 0.1158 - val_accuracy: 0.9530\n",
            "Epoch 14/40\n",
            "648/648 [==============================] - 1s 2ms/step - loss: 0.1285 - accuracy: 0.9459 - val_loss: 0.1115 - val_accuracy: 0.9552\n",
            "Epoch 15/40\n",
            "648/648 [==============================] - 1s 2ms/step - loss: 0.1266 - accuracy: 0.9474 - val_loss: 0.1131 - val_accuracy: 0.9557\n",
            "Epoch 16/40\n",
            "648/648 [==============================] - 1s 2ms/step - loss: 0.1255 - accuracy: 0.9477 - val_loss: 0.1148 - val_accuracy: 0.9534\n",
            "Epoch 17/40\n",
            "648/648 [==============================] - 1s 2ms/step - loss: 0.1219 - accuracy: 0.9488 - val_loss: 0.1080 - val_accuracy: 0.9544\n",
            "Epoch 18/40\n",
            "648/648 [==============================] - 1s 2ms/step - loss: 0.1207 - accuracy: 0.9499 - val_loss: 0.1080 - val_accuracy: 0.9549\n",
            "Epoch 19/40\n",
            "648/648 [==============================] - 1s 2ms/step - loss: 0.1184 - accuracy: 0.9514 - val_loss: 0.1094 - val_accuracy: 0.9556\n",
            "Epoch 20/40\n",
            "648/648 [==============================] - 1s 2ms/step - loss: 0.1185 - accuracy: 0.9499 - val_loss: 0.1137 - val_accuracy: 0.9531\n",
            "Epoch 21/40\n",
            "648/648 [==============================] - 1s 2ms/step - loss: 0.1176 - accuracy: 0.9511 - val_loss: 0.1046 - val_accuracy: 0.9566\n",
            "Epoch 22/40\n",
            "648/648 [==============================] - 1s 2ms/step - loss: 0.1164 - accuracy: 0.9518 - val_loss: 0.1020 - val_accuracy: 0.9573\n",
            "Epoch 23/40\n",
            "648/648 [==============================] - 1s 2ms/step - loss: 0.1151 - accuracy: 0.9523 - val_loss: 0.1074 - val_accuracy: 0.9547\n",
            "Epoch 24/40\n",
            "648/648 [==============================] - 1s 2ms/step - loss: 0.1136 - accuracy: 0.9529 - val_loss: 0.1027 - val_accuracy: 0.9573\n",
            "Epoch 25/40\n",
            "648/648 [==============================] - 1s 2ms/step - loss: 0.1142 - accuracy: 0.9525 - val_loss: 0.1047 - val_accuracy: 0.9564\n",
            "Epoch 26/40\n",
            "648/648 [==============================] - 1s 2ms/step - loss: 0.1127 - accuracy: 0.9526 - val_loss: 0.1040 - val_accuracy: 0.9562\n",
            "Epoch 27/40\n",
            "648/648 [==============================] - 1s 2ms/step - loss: 0.1107 - accuracy: 0.9542 - val_loss: 0.0998 - val_accuracy: 0.9584\n",
            "Epoch 28/40\n",
            "648/648 [==============================] - 1s 2ms/step - loss: 0.1115 - accuracy: 0.9534 - val_loss: 0.1000 - val_accuracy: 0.9586\n",
            "Epoch 29/40\n",
            "648/648 [==============================] - 1s 2ms/step - loss: 0.1107 - accuracy: 0.9537 - val_loss: 0.1008 - val_accuracy: 0.9580\n",
            "Epoch 30/40\n",
            "648/648 [==============================] - 1s 2ms/step - loss: 0.1103 - accuracy: 0.9536 - val_loss: 0.1001 - val_accuracy: 0.9574\n",
            "Epoch 31/40\n",
            "648/648 [==============================] - 1s 1ms/step - loss: 0.1093 - accuracy: 0.9544 - val_loss: 0.0991 - val_accuracy: 0.9583\n",
            "Epoch 32/40\n",
            "648/648 [==============================] - 1s 2ms/step - loss: 0.1086 - accuracy: 0.9544 - val_loss: 0.1006 - val_accuracy: 0.9569\n",
            "Epoch 33/40\n",
            "648/648 [==============================] - 1s 2ms/step - loss: 0.1086 - accuracy: 0.9544 - val_loss: 0.1008 - val_accuracy: 0.9588\n",
            "Epoch 34/40\n",
            "648/648 [==============================] - 1s 2ms/step - loss: 0.1075 - accuracy: 0.9546 - val_loss: 0.1002 - val_accuracy: 0.9593\n",
            "Epoch 35/40\n",
            "648/648 [==============================] - 1s 1ms/step - loss: 0.1079 - accuracy: 0.9547 - val_loss: 0.0984 - val_accuracy: 0.9594\n",
            "Epoch 36/40\n",
            "648/648 [==============================] - 1s 2ms/step - loss: 0.1066 - accuracy: 0.9549 - val_loss: 0.0964 - val_accuracy: 0.9609\n",
            "Epoch 37/40\n",
            "648/648 [==============================] - 1s 2ms/step - loss: 0.1061 - accuracy: 0.9553 - val_loss: 0.1040 - val_accuracy: 0.9565\n",
            "Epoch 38/40\n",
            "648/648 [==============================] - 1s 2ms/step - loss: 0.1066 - accuracy: 0.9550 - val_loss: 0.0960 - val_accuracy: 0.9611\n",
            "Epoch 39/40\n",
            "648/648 [==============================] - 1s 2ms/step - loss: 0.1061 - accuracy: 0.9557 - val_loss: 0.0967 - val_accuracy: 0.9599\n",
            "Epoch 40/40\n",
            "648/648 [==============================] - 1s 2ms/step - loss: 0.1053 - accuracy: 0.9554 - val_loss: 0.0989 - val_accuracy: 0.9589\n"
          ]
        }
      ]
    },
    {
      "cell_type": "markdown",
      "metadata": {
        "id": "Yht1Be5Mn41M"
      },
      "source": [
        "From the result of the training, we can see that the model will take about 3 seconds to train the model per epoch in CPU and it end out with a total of 119 seconds for the entire training process. The GPU processes 1 second per epoch since the training data are binary so the GPU should not take long to process.\n",
        "\n",
        "The optimiser that we used works well it helps us to decrease the loss from 0.34% to 0.10% while the model accuracy has increased from 0.85% to 0.95%. On the other hand, the validation loss also getting decrease from 0.21% to 0.09% while the validation accuracy got an increase from 0.91% to 0.96%, but after training for 36 epochs the validation loss is starting to increase while the validation accuracy also started to decrease. This informs us that the model will likely become overfitting if we keep training for more epochs, so the epoch that we should select from 1 to 36 epoch."
      ]
    },
    {
      "cell_type": "markdown",
      "metadata": {
        "id": "7qIJdE4gzIlk"
      },
      "source": [
        "We can confirm the performance of the model by plotting. It also offers us the overall performance of the model during training. "
      ]
    },
    {
      "cell_type": "code",
      "metadata": {
        "colab": {
          "base_uri": "https://localhost:8080/",
          "height": 279
        },
        "id": "-TUBdGHJExoV",
        "outputId": "82455659-ef2e-4ba5-e09b-c8d274fd838a"
      },
      "source": [
        "training_df = pd.DataFrame.from_dict(history.history).assign(epoch=np.array(history.epoch)+1)\n",
        "sns.lineplot(data=training_df, x='epoch', y='accuracy', color='green')\n",
        "sns.lineplot(data=training_df, x='epoch', y='val_accuracy', color='red');"
      ],
      "execution_count": null,
      "outputs": [
        {
          "output_type": "display_data",
          "data": {
            "image/png": "[encoded data removed]",
            "text/plain": [
              "<Figure size 432x288 with 1 Axes>"
            ]
          },
          "metadata": {
            "needs_background": "light"
          }
        }
      ]
    },
    {
      "cell_type": "code",
      "metadata": {
        "colab": {
          "base_uri": "https://localhost:8080/",
          "height": 279
        },
        "id": "BnPhhik9GWcI",
        "outputId": "02d9bcda-e5c5-4367-abca-abe2e1f0ba68"
      },
      "source": [
        "training_df = pd.DataFrame.from_dict(history.history).assign(epoch=np.array(history.epoch)+1)\n",
        "sns.lineplot(data=training_df, x='epoch', y='loss', color='green')\n",
        "sns.lineplot(data=training_df, x='epoch', y='val_loss', color='red');"
      ],
      "execution_count": null,
      "outputs": [
        {
          "output_type": "display_data",
          "data": {
            "image/png": "[encoded data removed]",
            "text/plain": [
              "<Figure size 432x288 with 1 Axes>"
            ]
          },
          "metadata": {
            "needs_background": "light"
          }
        }
      ]
    },
    {
      "cell_type": "markdown",
      "metadata": {
        "id": "fqDkFTog53SG"
      },
      "source": [
        "We can confirm that the plotting result matches the data that we get while from the model training. The validation loss is getting increase after training for epoch 36.\n",
        "\n",
        "From the plotting, we can see that both training data and validation data had a high loss and low accuracy during the beginning of the model training but after training for 5 epochs the loss and accuracy of both data are starting to getting improve. We also can see that the validation data training does not get trained smoothly with the model especially in the 15 to 24 epoch which had a lot of edges appear in the graph. However, the validation data get trained smoothly in epoch 27 to epoch 35 and had a small gap between the training dataset which is perfect because it informs us that the model will not get overfit or underfit with the data, so our final epoch should select between 27 to 35. Our team decided to pick the middle rate which is 33. "
      ]
    },
    {
      "cell_type": "markdown",
      "metadata": {
        "id": "PaRSG4HdCmHk"
      },
      "source": [
        "Now we decide to re-create, compile and train the model with epoch 33, but this time we will not need to have a validation split because we had already decided our best epoch. "
      ]
    },
    {
      "cell_type": "code",
      "metadata": {
        "colab": {
          "base_uri": "https://localhost:8080/"
        },
        "id": "wj2rLUQa-whb",
        "outputId": "1452233f-f3e7-4935-8dbf-97c70802abd9"
      },
      "source": [
        "model_NN = get_ff_model()\n",
        "model_NN.compile(optimizer='adam', loss='binary_crossentropy', metrics=['accuracy'])\n",
        "history = model_NN.fit(X_train_NN, Y_train_NN, batch_size=128, epochs=33)"
      ],
      "execution_count": null,
      "outputs": [
        {
          "output_type": "stream",
          "name": "stdout",
          "text": [
            "Epoch 1/33\n",
            "810/810 [==============================] - 2s 1ms/step - loss: 0.3287 - accuracy: 0.8622\n",
            "Epoch 2/33\n",
            "810/810 [==============================] - 1s 1ms/step - loss: 0.2081 - accuracy: 0.9157\n",
            "Epoch 3/33\n",
            "810/810 [==============================] - 1s 1ms/step - loss: 0.1773 - accuracy: 0.9276\n",
            "Epoch 4/33\n",
            "810/810 [==============================] - 1s 1ms/step - loss: 0.1618 - accuracy: 0.9331\n",
            "Epoch 5/33\n",
            "810/810 [==============================] - 1s 1ms/step - loss: 0.1526 - accuracy: 0.9366\n",
            "Epoch 6/33\n",
            "810/810 [==============================] - 1s 1ms/step - loss: 0.1469 - accuracy: 0.9401\n",
            "Epoch 7/33\n",
            "810/810 [==============================] - 1s 1ms/step - loss: 0.1397 - accuracy: 0.9422\n",
            "Epoch 8/33\n",
            "810/810 [==============================] - 1s 1ms/step - loss: 0.1362 - accuracy: 0.9431\n",
            "Epoch 9/33\n",
            "810/810 [==============================] - 1s 1ms/step - loss: 0.1327 - accuracy: 0.9451\n",
            "Epoch 10/33\n",
            "810/810 [==============================] - 1s 1ms/step - loss: 0.1282 - accuracy: 0.9467\n",
            "Epoch 11/33\n",
            "810/810 [==============================] - 1s 1ms/step - loss: 0.1259 - accuracy: 0.9475\n",
            "Epoch 12/33\n",
            "810/810 [==============================] - 1s 1ms/step - loss: 0.1230 - accuracy: 0.9486\n",
            "Epoch 13/33\n",
            "810/810 [==============================] - 1s 2ms/step - loss: 0.1221 - accuracy: 0.9494\n",
            "Epoch 14/33\n",
            "810/810 [==============================] - 1s 1ms/step - loss: 0.1191 - accuracy: 0.9505\n",
            "Epoch 15/33\n",
            "810/810 [==============================] - 1s 1ms/step - loss: 0.1173 - accuracy: 0.9511\n",
            "Epoch 16/33\n",
            "810/810 [==============================] - 1s 1ms/step - loss: 0.1158 - accuracy: 0.9517\n",
            "Epoch 17/33\n",
            "810/810 [==============================] - 1s 1ms/step - loss: 0.1146 - accuracy: 0.9524\n",
            "Epoch 18/33\n",
            "810/810 [==============================] - 1s 1ms/step - loss: 0.1146 - accuracy: 0.9526\n",
            "Epoch 19/33\n",
            "810/810 [==============================] - 1s 1ms/step - loss: 0.1124 - accuracy: 0.9537\n",
            "Epoch 20/33\n",
            "810/810 [==============================] - 1s 1ms/step - loss: 0.1123 - accuracy: 0.9534\n",
            "Epoch 21/33\n",
            "810/810 [==============================] - 1s 1ms/step - loss: 0.1117 - accuracy: 0.9527\n",
            "Epoch 22/33\n",
            "810/810 [==============================] - 1s 1ms/step - loss: 0.1103 - accuracy: 0.9537\n",
            "Epoch 23/33\n",
            "810/810 [==============================] - 1s 1ms/step - loss: 0.1097 - accuracy: 0.9537\n",
            "Epoch 24/33\n",
            "810/810 [==============================] - 1s 1ms/step - loss: 0.1088 - accuracy: 0.9538\n",
            "Epoch 25/33\n",
            "810/810 [==============================] - 1s 1ms/step - loss: 0.1077 - accuracy: 0.9549\n",
            "Epoch 26/33\n",
            "810/810 [==============================] - 1s 1ms/step - loss: 0.1068 - accuracy: 0.9548\n",
            "Epoch 27/33\n",
            "810/810 [==============================] - 1s 1ms/step - loss: 0.1061 - accuracy: 0.9551\n",
            "Epoch 28/33\n",
            "810/810 [==============================] - 1s 1ms/step - loss: 0.1060 - accuracy: 0.9555\n",
            "Epoch 29/33\n",
            "810/810 [==============================] - 1s 1ms/step - loss: 0.1056 - accuracy: 0.9552\n",
            "Epoch 30/33\n",
            "810/810 [==============================] - 1s 1ms/step - loss: 0.1045 - accuracy: 0.9558\n",
            "Epoch 31/33\n",
            "810/810 [==============================] - 1s 2ms/step - loss: 0.1038 - accuracy: 0.9567\n",
            "Epoch 32/33\n",
            "810/810 [==============================] - 1s 1ms/step - loss: 0.1036 - accuracy: 0.9560\n",
            "Epoch 33/33\n",
            "810/810 [==============================] - 1s 1ms/step - loss: 0.1030 - accuracy: 0.9565\n"
          ]
        }
      ]
    },
    {
      "cell_type": "code",
      "metadata": {
        "colab": {
          "base_uri": "https://localhost:8080/"
        },
        "id": "scNBJI5N_qGn",
        "outputId": "fb4166e9-2dc4-41f4-8292-a3c3b6630e2b"
      },
      "source": [
        "model_NN.evaluate(X_test_NN, Y_test_NN)"
      ],
      "execution_count": null,
      "outputs": [
        {
          "output_type": "stream",
          "name": "stdout",
          "text": [
            "810/810 [==============================] - 1s 783us/step - loss: 0.0984 - accuracy: 0.9572\n"
          ]
        },
        {
          "output_type": "execute_result",
          "data": {
            "text/plain": [
              "[0.09844657778739929, 0.957208514213562]"
            ]
          },
          "metadata": {},
          "execution_count": 156
        }
      ]
    },
    {
      "cell_type": "markdown",
      "metadata": {
        "id": "nb4Gg-_iEVEi"
      },
      "source": [
        "We can see that the accuracy and loss are quite from the test set similar to the result that we get from the validation set during the training which can tell us that the model had learned well with the unseen data."
      ]
    },
    {
      "cell_type": "code",
      "metadata": {
        "id": "QAaqD0-7-wzP"
      },
      "source": [
        "Y_pred_test = model_NN.predict(X_test_NN)\n",
        "Y_pred_train = model_NN.predict(X_train_NN)\n",
        "Y_pred_test = (Y_pred_test > 0.5) # round the data (become true 1 and false 0)\n",
        "Y_pred_train = (Y_pred_train > 0.5) # round the data (become true 1 and false 0)"
      ],
      "execution_count": null,
      "outputs": []
    },
    {
      "cell_type": "markdown",
      "metadata": {
        "id": "-Xtzzz-yTL5_"
      },
      "source": [
        "After we predicted the test data. We can now plot out the classificastion_report to see how the data get predicted with the model."
      ]
    },
    {
      "cell_type": "code",
      "metadata": {
        "colab": {
          "base_uri": "https://localhost:8080/"
        },
        "id": "UuLZ1wL9zbaS",
        "outputId": "0f409390-39f1-4716-99c2-105002982c0a"
      },
      "source": [
        "print(classification_report(Y_test_NN, Y_pred_test))"
      ],
      "execution_count": null,
      "outputs": [
        {
          "output_type": "stream",
          "name": "stdout",
          "text": [
            "              precision    recall  f1-score   support\n",
            "\n",
            "           0       0.95      0.98      0.96     14528\n",
            "           1       0.97      0.93      0.95     11365\n",
            "\n",
            "    accuracy                           0.96     25893\n",
            "   macro avg       0.96      0.95      0.96     25893\n",
            "weighted avg       0.96      0.96      0.96     25893\n",
            "\n"
          ]
        }
      ]
    },
    {
      "cell_type": "code",
      "metadata": {
        "colab": {
          "base_uri": "https://localhost:8080/"
        },
        "id": "OcwLQz8y14Un",
        "outputId": "9fbd2e32-6165-46a2-9907-ff7bfbed433e"
      },
      "source": [
        "print(classification_report(Y_train_NN, Y_pred_train))"
      ],
      "execution_count": null,
      "outputs": [
        {
          "output_type": "stream",
          "name": "stdout",
          "text": [
            "              precision    recall  f1-score   support\n",
            "\n",
            "           0       0.95      0.98      0.96     58697\n",
            "           1       0.97      0.94      0.95     44897\n",
            "\n",
            "    accuracy                           0.96    103594\n",
            "   macro avg       0.96      0.96      0.96    103594\n",
            "weighted avg       0.96      0.96      0.96    103594\n",
            "\n"
          ]
        }
      ]
    },
    {
      "cell_type": "markdown",
      "metadata": {
        "id": "Ti3rhsrJTJIf"
      },
      "source": [
        "From the report, first, we can see that all the samples of the train and test dataset are get predicted successfully which had a total amount of 25893 for the test set and 103594 for the train set, both of them match the shape that we get from the X Y train and test.\n",
        "\n",
        "However, not all of the data in the train set and test set get predicted correctly. In the train set, we can see that we get 97% of precision which mean they had almost 97% of \"satisfaction\" gets correctly identified from the total amount of \"satisfaction\" that we predicted in the model. For the recall, we get 98% in the training set, which means there had 98% of actual \"satisfaction\" get correctly identified from the actual \"satisfaction\" in data. The f1 measurement is just the balance between the recall and precision which had achieved 96% in our model. On the other hand, the prediction for the test set data is the same as the train set which also has 97% of precision, 98% of recall and 96% of f1. This tells us that the model does not get overfit or underfit since both results of the train and test are the same and close. \n",
        "\n",
        "Overall, we should focus on our aim measurement which is 96% of accuracy and 96% of f1 which is great because both results are nearly 1 so it informs us that the model is well predicted to the unseen data. \n"
      ]
    },
    {
      "cell_type": "markdown",
      "metadata": {
        "id": "7MGoNAOWN6BO"
      },
      "source": [
        "# Task 5. Recommendation"
      ]
    },
    {
      "cell_type": "markdown",
      "metadata": {
        "id": "9xVdO0JXbpB6"
      },
      "source": [
        "We have trained and tested three models to select the best model so far. As a result of predicting the train and test in each model, the f-1 score showed good prediction results for all models without overfitting and underfitting.\n",
        "\n",
        "First, in the test data prediction results of the Logistic Regression, the measurement of the f-1 score achieved 89%, and the accuracy of 87%. \n",
        "\n",
        "Second, in the test data prediction results of the Decision Tree, the f-1 score achieved 96%, and 95% accuracy could be identified. As a result of comparing the two models, the Decision Tree model was confirmed to be a model with 12% higher accuracy than the Logistic Regression. \n",
        "\n",
        "Finally, as a result of the test data prediction of the Neural Net Model, the f-1 score achieved 96%, and high accuracy was identified as 96%. In the Logistic Regression model and Decision Tree compared earlier, we identified that Decision Tree is a better model. \n",
        "\n",
        "So, we were able to select the best model by comparing the Decision Tree and the Neural Net model. Both models were not only well predicted for unseen data, but also showed similar performance. However, the Neural Net model was identified to be 1% more accurate than the Decision Tree. \n",
        "Therefore, as a result of comparing and analyzing the three models, our group recommends the Neural Net model that provides the highest accuracy.\n",
        "\n",
        "The Neural Net model that we had developed is designed to handle the binary classification and it currently works well with the test data set that is provided, but it does not mean that it will work well with all unseen data.\n",
        "If the unseen data that handle by our model is image data with a 2D array then properly our model will likely become underfitting because the image will require different activation functions or loss functions to process. If the unseen data that the model needs to handle had the same or close feature amount as our test data then the model will properly get above 90% of accuracy which is close to the result that we get in model training else the loss of our model will likely high and cause underfitting or overfitting because the unit of our model may not enough or too high to handle the unseen data."
      ]
    }
  ]
}